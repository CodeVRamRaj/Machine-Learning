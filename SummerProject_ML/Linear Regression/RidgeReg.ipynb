{
  "nbformat": 4,
  "nbformat_minor": 0,
  "metadata": {
    "colab": {
      "name": "RidgeReg.ipynb",
      "provenance": []
    },
    "kernelspec": {
      "name": "python3",
      "display_name": "Python 3"
    },
    "language_info": {
      "name": "python"
    }
  },
  "cells": [
    {
      "cell_type": "markdown",
      "source": [
        "**Ridge Regression**"
      ],
      "metadata": {
        "id": "-bpyniEK4NYY"
      }
    },
    {
      "cell_type": "code",
      "source": [
        "import numpy as np\n",
        "import pandas as pd\n",
        "import matplotlib.pyplot as plt"
      ],
      "metadata": {
        "id": "99QvYzQj4KqW"
      },
      "execution_count": null,
      "outputs": []
    },
    {
      "cell_type": "code",
      "source": [
        "from sklearn.datasets import load_diabetes"
      ],
      "metadata": {
        "id": "fKk_VeC64XT7"
      },
      "execution_count": null,
      "outputs": []
    },
    {
      "cell_type": "code",
      "source": [
        "df = load_diabetes()\n",
        "X= df.data\n",
        "y = df.target"
      ],
      "metadata": {
        "id": "545iYeYI4dBj"
      },
      "execution_count": null,
      "outputs": []
    },
    {
      "cell_type": "code",
      "source": [
        "from sklearn.model_selection import train_test_split\n",
        "X_train, X_test, y_train, y_test = train_test_split(X,y,test_size=0.2, random_state=45)\n",
        "from sklearn.linear_model import LinearRegression\n",
        "lr = LinearRegression()\n",
        "lr.fit(X_train,y_train)\n",
        "y_pred = lr.predict(X_test)"
      ],
      "metadata": {
        "id": "DgAk_H7o4jA5"
      },
      "execution_count": null,
      "outputs": []
    },
    {
      "cell_type": "code",
      "source": [
        "from sklearn.metrics import r2_score, mean_squared_error\n",
        "print(\"r2 score: \", r2_score(y_test,y_pred))\n",
        "print(\"RMSE: \", np.sqrt(mean_squared_error(y_test,y_pred)))"
      ],
      "metadata": {
        "colab": {
          "base_uri": "https://localhost:8080/"
        },
        "id": "PwJH0zm548F-",
        "outputId": "2b48a858-9b48-4c4a-f218-eb50edb78e6a"
      },
      "execution_count": null,
      "outputs": [
        {
          "output_type": "stream",
          "name": "stdout",
          "text": [
            "r2 score:  0.5188118914964637\n",
            "RMSE:  48.72710829141399\n"
          ]
        }
      ]
    },
    {
      "cell_type": "code",
      "source": [
        "from sklearn.linear_model import Ridge\n",
        "lr = Ridge(0.01)\n",
        "lr.fit(X_train,y_train)\n",
        "y_pred1 = lr.predict(X_test)"
      ],
      "metadata": {
        "id": "IOTgONuO57fj"
      },
      "execution_count": null,
      "outputs": []
    },
    {
      "cell_type": "code",
      "source": [
        "print(\"r2 score: \", r2_score(y_test,y_pred1))\n",
        "print(\"RMSE: \", np.sqrt(mean_squared_error(y_test,y_pred1)))"
      ],
      "metadata": {
        "colab": {
          "base_uri": "https://localhost:8080/"
        },
        "id": "XTC_hsaA6Six",
        "outputId": "6bbc86e7-bf38-451b-b8ec-be2abadecf9f"
      },
      "execution_count": null,
      "outputs": [
        {
          "output_type": "stream",
          "name": "stdout",
          "text": [
            "r2 score:  0.5230848310448114\n",
            "RMSE:  48.51027804490331\n"
          ]
        }
      ]
    },
    {
      "cell_type": "code",
      "source": [
        "#overfitting/underfitting\n",
        "X1 = 5* np.random.rand(50,1)-2\n",
        "X2 = 0.7 * X1**2-2*X1 +3 + np.random.randn(50,1)\n",
        "plt.scatter(X1,X2)\n",
        "plt.show()"
      ],
      "metadata": {
        "colab": {
          "base_uri": "https://localhost:8080/",
          "height": 269
        },
        "id": "fVQGrUOU6Uu2",
        "outputId": "8dff3960-9bde-4844-e927-443d1542a659"
      },
      "execution_count": null,
      "outputs": [
        {
          "output_type": "display_data",
          "data": {
            "text/plain": [
              "<Figure size 432x288 with 1 Axes>"
            ],
            "image/png": "[encoded data removed]"
          },
          "metadata": {
            "needs_background": "light"
          }
        }
      ]
    },
    {
      "cell_type": "code",
      "source": [
        "from sklearn.pipeline import Pipeline  \n",
        "from sklearn.preprocessing import PolynomialFeatures \n",
        "def get_preds_ridge(x1,x2,alpha):\n",
        "  model = Pipeline([\n",
        "                    ('poly_features', PolynomialFeatures(degree =15)),\n",
        "                    ('ridge',Ridge(alpha= alpha))\n",
        "  ])\n",
        "  model.fit(x1,x2)\n",
        "  return model.predict(x1) \n",
        "alphas =[0.001,10,300]\n",
        "cs = ['r','g','b']\n",
        "plt.figure(figsize=(10,6))\n",
        "plt.plot(X1,X2, 'b+',label = 'Datapoints')\n",
        "for alpha, c in zip(alphas,cs):\n",
        "    preds = get_preds_ridge(X1,X2,alpha)\n",
        "    plt.plot(sorted(X1[:,0]), preds[np.argsort(X1[:,0])], c, label = 'Alpha: {}'.format(alpha))\n",
        "plt.legend()\n",
        "plt.show()    "
      ],
      "metadata": {
        "colab": {
          "base_uri": "https://localhost:8080/",
          "height": 409
        },
        "id": "eXJmF_Md7Ly1",
        "outputId": "32325ccb-70e8-4ef7-a598-29ffc978e00b"
      },
      "execution_count": null,
      "outputs": [
        {
          "output_type": "stream",
          "name": "stderr",
          "text": [
            "/usr/local/lib/python3.7/dist-packages/sklearn/linear_model/_ridge.py:157: LinAlgWarning: Ill-conditioned matrix (rcond=2.20696e-17): result may not be accurate.\n",
            "  return linalg.solve(A, Xy, sym_pos=True, overwrite_a=True).T\n"
          ]
        },
        {
          "output_type": "display_data",
          "data": {
            "text/plain": [
              "<Figure size 720x432 with 1 Axes>"
            ],
            "image/png": "[encoded data removed]"
          },
          "metadata": {
            "needs_background": "light"
          }
        }
      ]
    },
    {
      "cell_type": "code",
      "source": [
        "# high alpha -> showing underfitting\n",
        "# low alpha -> overfitting"
      ],
      "metadata": {
        "id": "q5GgbXnx9V6a"
      },
      "execution_count": null,
      "outputs": []
    },
    {
      "cell_type": "markdown",
      "source": [
        ""
      ],
      "metadata": {
        "id": "htKL6GpTA2or"
      }
    },
    {
      "cell_type": "markdown",
      "source": [
        "**Implemetation**\n"
      ],
      "metadata": {
        "id": "GQs9b9XNA5Yy"
      }
    },
    {
      "cell_type": "code",
      "source": [
        "from sklearn.datasets import make_regression\n",
        "import matplotlib.pyplot as plt \n",
        "import numpy as np "
      ],
      "metadata": {
        "id": "hh40kXwwA97C"
      },
      "execution_count": null,
      "outputs": []
    },
    {
      "cell_type": "code",
      "source": [
        "X,y = make_regression(n_samples=100, n_features=1, n_informative =1, n_targets =1, \n",
        "                      noise=20, random_state=10)"
      ],
      "metadata": {
        "id": "PnUjktKbBJNR"
      },
      "execution_count": null,
      "outputs": []
    },
    {
      "cell_type": "code",
      "source": [
        "plt.scatter(X,y)"
      ],
      "metadata": {
        "colab": {
          "base_uri": "https://localhost:8080/",
          "height": 282
        },
        "id": "eIqmyDEcBdoR",
        "outputId": "29dfdf58-3357-4561-9e59-b3b9449a83f4"
      },
      "execution_count": null,
      "outputs": [
        {
          "output_type": "execute_result",
          "data": {
            "text/plain": [
              "<matplotlib.collections.PathCollection at 0x7f3b39017d50>"
            ]
          },
          "metadata": {},
          "execution_count": 43
        },
        {
          "output_type": "display_data",
          "data": {
            "text/plain": [
              "<Figure size 432x288 with 1 Axes>"
            ],
            "image/png": "[encoded data removed]"
          },
          "metadata": {
            "needs_background": "light"
          }
        }
      ]
    },
    {
      "cell_type": "code",
      "source": [
        "lr1 = LinearRegression()\n",
        "lr1.fit(X,y)\n",
        "print(lr1.coef_)\n",
        "print(lr1.intercept_)"
      ],
      "metadata": {
        "colab": {
          "base_uri": "https://localhost:8080/"
        },
        "id": "HMM_vow4Bgeh",
        "outputId": "d8fb77fd-7796-430e-c416-0f06645adf51"
      },
      "execution_count": null,
      "outputs": [
        {
          "output_type": "stream",
          "name": "stdout",
          "text": [
            "[31.34493951]\n",
            "1.0560830217516393\n"
          ]
        }
      ]
    },
    {
      "cell_type": "code",
      "source": [
        "from sklearn.linear_model import Ridge "
      ],
      "metadata": {
        "id": "dRPXACPJBs3I"
      },
      "execution_count": null,
      "outputs": []
    },
    {
      "cell_type": "code",
      "source": [
        "rr = Ridge(alpha=10)\n",
        "rr.fit(X,y)\n",
        "print(rr.coef_)\n",
        "print(rr.intercept_)"
      ],
      "metadata": {
        "colab": {
          "base_uri": "https://localhost:8080/"
        },
        "id": "PT7hlG61B-6r",
        "outputId": "e737abf5-8eff-4a12-dae1-44ab1efd7aed"
      },
      "execution_count": null,
      "outputs": [
        {
          "output_type": "stream",
          "name": "stdout",
          "text": [
            "[28.31692669]\n",
            "1.2965576951719218\n"
          ]
        }
      ]
    },
    {
      "cell_type": "code",
      "source": [
        "rr1 = Ridge(alpha=100)\n",
        "rr1.fit(X,y)\n",
        "print(rr1.coef_)\n",
        "print(rr1.intercept_)"
      ],
      "metadata": {
        "colab": {
          "base_uri": "https://localhost:8080/"
        },
        "id": "6F0DZECJCJ59",
        "outputId": "29cead47-4a98-41d2-d63c-5de4df6cdf61"
      },
      "execution_count": null,
      "outputs": [
        {
          "output_type": "stream",
          "name": "stdout",
          "text": [
            "[15.14738848]\n",
            "2.342438471999783\n"
          ]
        }
      ]
    },
    {
      "cell_type": "code",
      "source": [
        "plt.plot(X,y,'b.')\n",
        "plt.plot(X,lr1.predict(X), color='r', label ='alpha=0')\n",
        "plt.plot(X,rr.predict(X), color='g', label ='alpha=10')\n",
        "plt.plot(X,rr1.predict(X), color='orange', label ='alpha=100')"
      ],
      "metadata": {
        "colab": {
          "base_uri": "https://localhost:8080/",
          "height": 282
        },
        "id": "i4JOmEWcCS6I",
        "outputId": "eead8a21-a32a-41b9-8f49-e55d020b3195"
      },
      "execution_count": null,
      "outputs": [
        {
          "output_type": "execute_result",
          "data": {
            "text/plain": [
              "[<matplotlib.lines.Line2D at 0x7f3b38d78950>]"
            ]
          },
          "metadata": {},
          "execution_count": 51
        },
        {
          "output_type": "display_data",
          "data": {
            "text/plain": [
              "<Figure size 432x288 with 1 Axes>"
            ],
            "image/png": "[encoded data removed]"
          },
          "metadata": {
            "needs_background": "light"
          }
        }
      ]
    },
    {
      "cell_type": "code",
      "source": [
        "class Ridge1:\n",
        "  def __init__(self,alpha=0.1):\n",
        "    self.alpha =alpha \n",
        "    self.m= None\n",
        "    self.b = None \n",
        "  def fit(self,X_train,y_train):\n",
        "    num=0\n",
        "    dem =0\n",
        "    for i in range(X_train.shape[0]):\n",
        "      num +=(y_train[i]-y_train.mean())*(X_train[i]-X_train.mean())\n",
        "      dem += (X_train[i]-X_train.mean())**2 +alpha \n",
        "    self.m = num/dem \n",
        "    self.b = y_train.mean() - self.m*X_train.mean()\n",
        "    return self.m, self.b \n",
        "  def predict(X_test):\n",
        "    return X_test*self.m + self.b \n",
        "reg = Ridge1()\n",
        "reg.fit(X,y)  "
      ],
      "metadata": {
        "colab": {
          "base_uri": "https://localhost:8080/"
        },
        "id": "VyJnWIOYCzpP",
        "outputId": "50660cb2-ec86-47da-977d-40a11857d753"
      },
      "execution_count": null,
      "outputs": [
        {
          "output_type": "execute_result",
          "data": {
            "text/plain": [
              "(array([0.09740537]), array([3.53765791]))"
            ]
          },
          "metadata": {},
          "execution_count": 53
        }
      ]
    },
    {
      "cell_type": "code",
      "source": [
        "class RR2:\n",
        "    \n",
        "    def __init__(self,alpha=0.1):\n",
        "        \n",
        "        self.alpha = alpha\n",
        "        self.coef_ = None\n",
        "        self.intercept_ = None\n",
        "        \n",
        "    def fit(self,X_train,y_train):\n",
        "        \n",
        "        X_train = np.insert(X_train,0,1,axis=1)\n",
        "        I = np.identity(X_train.shape[1])\n",
        "        I[0][0] = 0\n",
        "        result = np.linalg.inv(np.dot(X_train.T,X_train) + self.alpha * I).dot(X_train.T).dot(y_train)\n",
        "        self.intercept_ = result[0]\n",
        "        self.coef_ = result[1:]\n",
        "        return \n",
        "    def predict(self,X_test):\n",
        "        return np.dot(X_test,self.coef_) + self.intercept_"
      ],
      "metadata": {
        "id": "X8TNpw9cE7Bd"
      },
      "execution_count": null,
      "outputs": []
    },
    {
      "cell_type": "code",
      "source": [
        "from sklearn.datasets import load_diabetes \n",
        "from sklearn.metrics import r2_score "
      ],
      "metadata": {
        "id": "wVf3QXuKHLbD"
      },
      "execution_count": null,
      "outputs": []
    },
    {
      "cell_type": "code",
      "source": [
        "X,y = load_diabetes(return_X_y=True)\n",
        "X_train,X_test, y_train,y_test = train_test_split(X,y,test_size=0.2, random_state =42)"
      ],
      "metadata": {
        "id": "loeggen6Hd7j"
      },
      "execution_count": null,
      "outputs": []
    },
    {
      "cell_type": "code",
      "source": [
        "rr2 = RR2()\n",
        "rr2.fit(X_train,y_train)\n",
        "y_pred = rr2.predict(X_test) \n",
        "print(r2_score(y_test, y_pred)) \n",
        "print(rr2.coef_)\n",
        "print(rr2.intercept_)"
      ],
      "metadata": {
        "colab": {
          "base_uri": "https://localhost:8080/"
        },
        "id": "N4KRLRtGHleA",
        "outputId": "afa23341-9b19-418f-bf57-d12fd0854f48"
      },
      "execution_count": null,
      "outputs": [
        {
          "output_type": "stream",
          "name": "stdout",
          "text": [
            "0.46085316782973285\n",
            "[  42.85374471 -205.49571833  505.08633402  317.09877365 -108.49829825\n",
            "  -86.2387599  -190.36567438  151.7067317   392.28728164   79.90836219]\n",
            "151.45860243385388\n"
          ]
        }
      ]
    },
    {
      "cell_type": "code",
      "source": [
        ""
      ],
      "metadata": {
        "id": "6OG78kEHIaik"
      },
      "execution_count": null,
      "outputs": []
    },
    {
      "cell_type": "markdown",
      "source": [
        "**Using Gradient descent**"
      ],
      "metadata": {
        "id": "uxmBoan2Lbnl"
      }
    },
    {
      "cell_type": "code",
      "source": [
        "class RidgeGD:\n",
        "    \n",
        "    def __init__(self,epochs=100,learning_rate =0.1,alpha=0.1):\n",
        "        \n",
        "        self.learning_rate = learning_rate\n",
        "        self.epochs = epochs\n",
        "        self.alpha = alpha\n",
        "        self.coef_ = None\n",
        "        self.intercept_ = None\n",
        "    def fit(self,X_train,y_train):\n",
        "        \n",
        "        self.coef_ = np.ones(X_train.shape[1])\n",
        "        self.intercept_ = 0\n",
        "        thetha = np.insert(self.coef_,0,self.intercept_)\n",
        "        \n",
        "        X_train = np.insert(X_train,0,1,axis=1)\n",
        "        \n",
        "        for i in range(self.epochs):\n",
        "            thetha_der = np.dot(X_train.T,X_train).dot(thetha) - np.dot(X_train.T,y_train) + self.alpha*thetha\n",
        "            thetha = thetha - self.learning_rate*thetha_der\n",
        "        \n",
        "        self.coef_ = thetha[1:]\n",
        "        self.intercept_ = thetha[0]\n",
        "    \n",
        "    def predict(self,X_test):\n",
        "        \n",
        "        return np.dot(X_test,self.coef_) + self.intercept_"
      ],
      "metadata": {
        "id": "9qI8_ocGLhVk"
      },
      "execution_count": null,
      "outputs": []
    },
    {
      "cell_type": "code",
      "source": [
        "reg = RidgeGD(epochs=500,alpha=0.001,learning_rate=0.005)"
      ],
      "metadata": {
        "id": "pqa4W76lNuMF"
      },
      "execution_count": null,
      "outputs": []
    },
    {
      "cell_type": "code",
      "source": [
        "reg.fit(X_train,y_train)\n",
        "y_pred = reg.predict(X_test)\n",
        "print(\"R2 score\",r2_score(y_test,y_pred))\n",
        "print(reg.coef_)\n",
        "print(reg.intercept_)"
      ],
      "metadata": {
        "colab": {
          "base_uri": "https://localhost:8080/"
        },
        "id": "JbuWhVuQODTo",
        "outputId": "5d3cd5b4-5bea-4254-99bc-031602b7437d"
      },
      "execution_count": null,
      "outputs": [
        {
          "output_type": "stream",
          "name": "stdout",
          "text": [
            "R2 score 0.45922562409620993\n",
            "[  43.37045483 -192.03844748  496.43371401  319.37856976  -64.42806489\n",
            " -113.19505857 -213.90825527  144.861197    367.67858381  119.56862435]\n",
            "151.40457302137384\n"
          ]
        }
      ]
    },
    {
      "cell_type": "code",
      "source": [
        "9"
      ],
      "metadata": {
        "id": "ysFmRLDAOJa6"
      },
      "execution_count": null,
      "outputs": []
    }
  ]
}
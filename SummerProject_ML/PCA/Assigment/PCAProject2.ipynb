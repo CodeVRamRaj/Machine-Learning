{
  "nbformat": 4,
  "nbformat_minor": 0,
  "metadata": {
    "colab": {
      "name": "PCAProject2.ipynb",
      "provenance": []
    },
    "kernelspec": {
      "name": "python3",
      "display_name": "Python 3"
    },
    "language_info": {
      "name": "python"
    }
  },
  "cells": [
    {
      "cell_type": "code",
      "execution_count": null,
      "metadata": {
        "id": "mqvjOlo-H4pQ"
      },
      "outputs": [],
      "source": [
        "import numpy as np\n",
        "import pandas as pd\n",
        "import matplotlib.pyplot as plt\n",
        "%matplotlib inline"
      ]
    },
    {
      "cell_type": "code",
      "source": [
        "df = pd.read_csv('/content/X_train.csv')\n",
        "df.head()"
      ],
      "metadata": {
        "colab": {
          "base_uri": "https://localhost:8080/",
          "height": 300
        },
        "id": "rfcVBPFmIBJx",
        "outputId": "76808024-b2d0-468d-8a41-cc6842d62545"
      },
      "execution_count": null,
      "outputs": [
        {
          "output_type": "execute_result",
          "data": {
            "text/plain": [
              "   Id  SalePrice  MSSubClass  MSZoning  LotFrontage   LotArea  Street  Alley  \\\n",
              "0   1     208500    0.235294      0.75     0.150685  0.033420     1.0    1.0   \n",
              "1   2     181500    0.000000      0.75     0.202055  0.038795     1.0    1.0   \n",
              "2   3     223500    0.235294      0.75     0.160959  0.046507     1.0    1.0   \n",
              "3   4     140000    0.294118      0.75     0.133562  0.038561     1.0    1.0   \n",
              "4   5     250000    0.235294      0.75     0.215753  0.060576     1.0    1.0   \n",
              "\n",
              "   LotShape  LandContour  ...  Fence  MiscFeature  MiscVal    MoSold  YrSold  \\\n",
              "0  0.000000     0.333333  ...    1.0          1.0      0.0  0.090909    0.50   \n",
              "1  0.000000     0.333333  ...    1.0          1.0      0.0  0.363636    0.25   \n",
              "2  0.333333     0.333333  ...    1.0          1.0      0.0  0.727273    0.50   \n",
              "3  0.333333     0.333333  ...    1.0          1.0      0.0  0.090909    0.00   \n",
              "4  0.333333     0.333333  ...    1.0          1.0      0.0  1.000000    0.50   \n",
              "\n",
              "   SaleType  SaleCondition  LotFrontagenan  MasVnrAreanan  GarageYrBltnan  \n",
              "0  0.666667           0.75             0.0            0.0             0.0  \n",
              "1  0.666667           0.75             0.0            0.0             0.0  \n",
              "2  0.666667           0.75             0.0            0.0             0.0  \n",
              "3  0.666667           0.00             0.0            0.0             0.0  \n",
              "4  0.666667           0.75             0.0            0.0             0.0  \n",
              "\n",
              "[5 rows x 84 columns]"
            ],
            "text/html": [
              "\n",
              "  <div id=\"df-8596b08f-49a2-4ef9-a72c-87813a0c2391\">\n",
              "    <div class=\"colab-df-container\">\n",
              "      <div>\n",
              "<style scoped>\n",
              "    .dataframe tbody tr th:only-of-type {\n",
              "        vertical-align: middle;\n",
              "    }\n",
              "\n",
              "    .dataframe tbody tr th {\n",
              "        vertical-align: top;\n",
              "    }\n",
              "\n",
              "    .dataframe thead th {\n",
              "        text-align: right;\n",
              "    }\n",
              "</style>\n",
              "<table border=\"1\" class=\"dataframe\">\n",
              "  <thead>\n",
              "    <tr style=\"text-align: right;\">\n",
              "      <th></th>\n",
              "      <th>Id</th>\n",
              "      <th>SalePrice</th>\n",
              "      <th>MSSubClass</th>\n",
              "      <th>MSZoning</th>\n",
              "      <th>LotFrontage</th>\n",
              "      <th>LotArea</th>\n",
              "      <th>Street</th>\n",
              "      <th>Alley</th>\n",
              "      <th>LotShape</th>\n",
              "      <th>LandContour</th>\n",
              "      <th>...</th>\n",
              "      <th>Fence</th>\n",
              "      <th>MiscFeature</th>\n",
              "      <th>MiscVal</th>\n",
              "      <th>MoSold</th>\n",
              "      <th>YrSold</th>\n",
              "      <th>SaleType</th>\n",
              "      <th>SaleCondition</th>\n",
              "      <th>LotFrontagenan</th>\n",
              "      <th>MasVnrAreanan</th>\n",
              "      <th>GarageYrBltnan</th>\n",
              "    </tr>\n",
              "  </thead>\n",
              "  <tbody>\n",
              "    <tr>\n",
              "      <th>0</th>\n",
              "      <td>1</td>\n",
              "      <td>208500</td>\n",
              "      <td>0.235294</td>\n",
              "      <td>0.75</td>\n",
              "      <td>0.150685</td>\n",
              "      <td>0.033420</td>\n",
              "      <td>1.0</td>\n",
              "      <td>1.0</td>\n",
              "      <td>0.000000</td>\n",
              "      <td>0.333333</td>\n",
              "      <td>...</td>\n",
              "      <td>1.0</td>\n",
              "      <td>1.0</td>\n",
              "      <td>0.0</td>\n",
              "      <td>0.090909</td>\n",
              "      <td>0.50</td>\n",
              "      <td>0.666667</td>\n",
              "      <td>0.75</td>\n",
              "      <td>0.0</td>\n",
              "      <td>0.0</td>\n",
              "      <td>0.0</td>\n",
              "    </tr>\n",
              "    <tr>\n",
              "      <th>1</th>\n",
              "      <td>2</td>\n",
              "      <td>181500</td>\n",
              "      <td>0.000000</td>\n",
              "      <td>0.75</td>\n",
              "      <td>0.202055</td>\n",
              "      <td>0.038795</td>\n",
              "      <td>1.0</td>\n",
              "      <td>1.0</td>\n",
              "      <td>0.000000</td>\n",
              "      <td>0.333333</td>\n",
              "      <td>...</td>\n",
              "      <td>1.0</td>\n",
              "      <td>1.0</td>\n",
              "      <td>0.0</td>\n",
              "      <td>0.363636</td>\n",
              "      <td>0.25</td>\n",
              "      <td>0.666667</td>\n",
              "      <td>0.75</td>\n",
              "      <td>0.0</td>\n",
              "      <td>0.0</td>\n",
              "      <td>0.0</td>\n",
              "    </tr>\n",
              "    <tr>\n",
              "      <th>2</th>\n",
              "      <td>3</td>\n",
              "      <td>223500</td>\n",
              "      <td>0.235294</td>\n",
              "      <td>0.75</td>\n",
              "      <td>0.160959</td>\n",
              "      <td>0.046507</td>\n",
              "      <td>1.0</td>\n",
              "      <td>1.0</td>\n",
              "      <td>0.333333</td>\n",
              "      <td>0.333333</td>\n",
              "      <td>...</td>\n",
              "      <td>1.0</td>\n",
              "      <td>1.0</td>\n",
              "      <td>0.0</td>\n",
              "      <td>0.727273</td>\n",
              "      <td>0.50</td>\n",
              "      <td>0.666667</td>\n",
              "      <td>0.75</td>\n",
              "      <td>0.0</td>\n",
              "      <td>0.0</td>\n",
              "      <td>0.0</td>\n",
              "    </tr>\n",
              "    <tr>\n",
              "      <th>3</th>\n",
              "      <td>4</td>\n",
              "      <td>140000</td>\n",
              "      <td>0.294118</td>\n",
              "      <td>0.75</td>\n",
              "      <td>0.133562</td>\n",
              "      <td>0.038561</td>\n",
              "      <td>1.0</td>\n",
              "      <td>1.0</td>\n",
              "      <td>0.333333</td>\n",
              "      <td>0.333333</td>\n",
              "      <td>...</td>\n",
              "      <td>1.0</td>\n",
              "      <td>1.0</td>\n",
              "      <td>0.0</td>\n",
              "      <td>0.090909</td>\n",
              "      <td>0.00</td>\n",
              "      <td>0.666667</td>\n",
              "      <td>0.00</td>\n",
              "      <td>0.0</td>\n",
              "      <td>0.0</td>\n",
              "      <td>0.0</td>\n",
              "    </tr>\n",
              "    <tr>\n",
              "      <th>4</th>\n",
              "      <td>5</td>\n",
              "      <td>250000</td>\n",
              "      <td>0.235294</td>\n",
              "      <td>0.75</td>\n",
              "      <td>0.215753</td>\n",
              "      <td>0.060576</td>\n",
              "      <td>1.0</td>\n",
              "      <td>1.0</td>\n",
              "      <td>0.333333</td>\n",
              "      <td>0.333333</td>\n",
              "      <td>...</td>\n",
              "      <td>1.0</td>\n",
              "      <td>1.0</td>\n",
              "      <td>0.0</td>\n",
              "      <td>1.000000</td>\n",
              "      <td>0.50</td>\n",
              "      <td>0.666667</td>\n",
              "      <td>0.75</td>\n",
              "      <td>0.0</td>\n",
              "      <td>0.0</td>\n",
              "      <td>0.0</td>\n",
              "    </tr>\n",
              "  </tbody>\n",
              "</table>\n",
              "<p>5 rows × 84 columns</p>\n",
              "</div>\n",
              "      <button class=\"colab-df-convert\" onclick=\"convertToInteractive('df-8596b08f-49a2-4ef9-a72c-87813a0c2391')\"\n",
              "              title=\"Convert this dataframe to an interactive table.\"\n",
              "              style=\"display:none;\">\n",
              "        \n",
              "  <svg xmlns=\"http://www.w3.org/2000/svg\" height=\"24px\"viewBox=\"0 0 24 24\"\n",
              "       width=\"24px\">\n",
              "    <path d=\"M0 0h24v24H0V0z\" fill=\"none\"/>\n",
              "    <path d=\"M18.56 5.44l.94 2.06.94-2.06 2.06-.94-2.06-.94-.94-2.06-.94 2.06-2.06.94zm-11 1L8.5 8.5l.94-2.06 2.06-.94-2.06-.94L8.5 2.5l-.94 2.06-2.06.94zm10 10l.94 2.06.94-2.06 2.06-.94-2.06-.94-.94-2.06-.94 2.06-2.06.94z\"/><path d=\"M17.41 7.96l-1.37-1.37c-.4-.4-.92-.59-1.43-.59-.52 0-1.04.2-1.43.59L10.3 9.45l-7.72 7.72c-.78.78-.78 2.05 0 2.83L4 21.41c.39.39.9.59 1.41.59.51 0 1.02-.2 1.41-.59l7.78-7.78 2.81-2.81c.8-.78.8-2.07 0-2.86zM5.41 20L4 18.59l7.72-7.72 1.47 1.35L5.41 20z\"/>\n",
              "  </svg>\n",
              "      </button>\n",
              "      \n",
              "  <style>\n",
              "    .colab-df-container {\n",
              "      display:flex;\n",
              "      flex-wrap:wrap;\n",
              "      gap: 12px;\n",
              "    }\n",
              "\n",
              "    .colab-df-convert {\n",
              "      background-color: #E8F0FE;\n",
              "      border: none;\n",
              "      border-radius: 50%;\n",
              "      cursor: pointer;\n",
              "      display: none;\n",
              "      fill: #1967D2;\n",
              "      height: 32px;\n",
              "      padding: 0 0 0 0;\n",
              "      width: 32px;\n",
              "    }\n",
              "\n",
              "    .colab-df-convert:hover {\n",
              "      background-color: #E2EBFA;\n",
              "      box-shadow: 0px 1px 2px rgba(60, 64, 67, 0.3), 0px 1px 3px 1px rgba(60, 64, 67, 0.15);\n",
              "      fill: #174EA6;\n",
              "    }\n",
              "\n",
              "    [theme=dark] .colab-df-convert {\n",
              "      background-color: #3B4455;\n",
              "      fill: #D2E3FC;\n",
              "    }\n",
              "\n",
              "    [theme=dark] .colab-df-convert:hover {\n",
              "      background-color: #434B5C;\n",
              "      box-shadow: 0px 1px 3px 1px rgba(0, 0, 0, 0.15);\n",
              "      filter: drop-shadow(0px 1px 2px rgba(0, 0, 0, 0.3));\n",
              "      fill: #FFFFFF;\n",
              "    }\n",
              "  </style>\n",
              "\n",
              "      <script>\n",
              "        const buttonEl =\n",
              "          document.querySelector('#df-8596b08f-49a2-4ef9-a72c-87813a0c2391 button.colab-df-convert');\n",
              "        buttonEl.style.display =\n",
              "          google.colab.kernel.accessAllowed ? 'block' : 'none';\n",
              "\n",
              "        async function convertToInteractive(key) {\n",
              "          const element = document.querySelector('#df-8596b08f-49a2-4ef9-a72c-87813a0c2391');\n",
              "          const dataTable =\n",
              "            await google.colab.kernel.invokeFunction('convertToInteractive',\n",
              "                                                     [key], {});\n",
              "          if (!dataTable) return;\n",
              "\n",
              "          const docLinkHtml = 'Like what you see? Visit the ' +\n",
              "            '<a target=\"_blank\" href=https://colab.research.google.com/notebooks/data_table.ipynb>data table notebook</a>'\n",
              "            + ' to learn more about interactive tables.';\n",
              "          element.innerHTML = '';\n",
              "          dataTable['output_type'] = 'display_data';\n",
              "          await google.colab.output.renderOutput(dataTable, element);\n",
              "          const docLink = document.createElement('div');\n",
              "          docLink.innerHTML = docLinkHtml;\n",
              "          element.appendChild(docLink);\n",
              "        }\n",
              "      </script>\n",
              "    </div>\n",
              "  </div>\n",
              "  "
            ]
          },
          "metadata": {},
          "execution_count": 20
        }
      ]
    },
    {
      "cell_type": "code",
      "source": [
        "df.shape\n",
        "df.drop('Id',axis=1, inplace=True)\n",
        "df.shape"
      ],
      "metadata": {
        "colab": {
          "base_uri": "https://localhost:8080/"
        },
        "id": "-A2gL5DKIVGP",
        "outputId": "2c41c9b5-0192-4ed8-a401-71c61f2af5a3"
      },
      "execution_count": null,
      "outputs": [
        {
          "output_type": "execute_result",
          "data": {
            "text/plain": [
              "(1460, 83)"
            ]
          },
          "metadata": {},
          "execution_count": 22
        }
      ]
    },
    {
      "cell_type": "code",
      "source": [
        "df.isnull().sum()"
      ],
      "metadata": {
        "colab": {
          "base_uri": "https://localhost:8080/"
        },
        "id": "qKoXwoRjIdwT",
        "outputId": "0df365b9-7ae5-42f7-abdb-b58cd1397b40"
      },
      "execution_count": null,
      "outputs": [
        {
          "output_type": "execute_result",
          "data": {
            "text/plain": [
              "SalePrice         0\n",
              "MSSubClass        0\n",
              "MSZoning          0\n",
              "LotFrontage       0\n",
              "LotArea           0\n",
              "                 ..\n",
              "SaleType          0\n",
              "SaleCondition     0\n",
              "LotFrontagenan    0\n",
              "MasVnrAreanan     0\n",
              "GarageYrBltnan    0\n",
              "Length: 83, dtype: int64"
            ]
          },
          "metadata": {},
          "execution_count": 23
        }
      ]
    },
    {
      "cell_type": "code",
      "source": [
        "from sklearn.model_selection import train_test_split\n",
        "df = pd.get_dummies(df) #Getting dummies for categorical values\n",
        "df.shape"
      ],
      "metadata": {
        "colab": {
          "base_uri": "https://localhost:8080/"
        },
        "id": "r11M5D8ATHaw",
        "outputId": "99b63cd5-0607-4359-cd56-ad13f3e544f9"
      },
      "execution_count": null,
      "outputs": [
        {
          "output_type": "execute_result",
          "data": {
            "text/plain": [
              "(1460, 83)"
            ]
          },
          "metadata": {},
          "execution_count": 24
        }
      ]
    },
    {
      "cell_type": "code",
      "source": [
        "X_train, X_test, y_train, y_test = train_test_split(df.loc[:, df.columns != 'SalePrice'], df['SalePrice'], test_size=0.25, random_state=42)"
      ],
      "metadata": {
        "id": "Qb4c1QDDTted"
      },
      "execution_count": null,
      "outputs": []
    },
    {
      "cell_type": "code",
      "source": [
        "from sklearn.preprocessing import StandardScaler\n",
        "obj = StandardScaler()\n",
        "obj.fit_transform(X_train)\n",
        "obj.transform(X_test)"
      ],
      "metadata": {
        "colab": {
          "base_uri": "https://localhost:8080/"
        },
        "id": "sWn5FggYT9t9",
        "outputId": "f32602a4-908a-4b0e-93d6-c261ad052eb5"
      },
      "execution_count": null,
      "outputs": [
        {
          "output_type": "execute_result",
          "data": {
            "text/plain": [
              "array([[-0.87122795,  0.35924596, -0.00613001, ..., -0.47271946,\n",
              "        -0.06055048, -0.23649645],\n",
              "       [ 0.06762761,  0.35924596,  1.22227598, ..., -0.47271946,\n",
              "        -0.06055048, -0.23649645],\n",
              "       [-0.63651406, -2.20345321, -0.620333  , ..., -0.47271946,\n",
              "        -0.06055048, -0.23649645],\n",
              "       ...,\n",
              "       [ 0.06762761,  0.35924596, -0.05000165, ...,  2.11541958,\n",
              "        -0.06055048, -0.23649645],\n",
              "       [ 0.06762761,  0.35924596, -0.05000165, ...,  2.11541958,\n",
              "        -0.06055048, -0.23649645],\n",
              "       [-0.87122795,  0.35924596,  0.03774163, ..., -0.47271946,\n",
              "        -0.06055048, -0.23649645]])"
            ]
          },
          "metadata": {},
          "execution_count": 26
        }
      ]
    },
    {
      "cell_type": "code",
      "source": [
        "from sklearn.linear_model import LinearRegression\n",
        "lr = LinearRegression()\n",
        "lr.fit(X_train,y_train)\n",
        "y_pred = lr.predict(X_test)\n",
        "from sklearn.metrics import r2_score\n",
        "r2_score(y_test,y_pred)"
      ],
      "metadata": {
        "colab": {
          "base_uri": "https://localhost:8080/"
        },
        "id": "WjlBy7I4U61F",
        "outputId": "b80a8b7d-da13-4dcc-d4de-1e5e548815fb"
      },
      "execution_count": null,
      "outputs": [
        {
          "output_type": "execute_result",
          "data": {
            "text/plain": [
              "0.8511989163176158"
            ]
          },
          "metadata": {},
          "execution_count": 27
        }
      ]
    },
    {
      "cell_type": "code",
      "source": [
        "from sklearn.decomposition import PCA\n",
        "for i in range(1,X_train.shape[1]):\n",
        "      pca = PCA(n_components=i)\n",
        "      X_train1 = pca.fit_transform(X_train)\n",
        "      X_test1 = pca.transform(X_test)\n",
        "      lr = LinearRegression()\n",
        "      lr.fit(X_train1,y_train)\n",
        "      y_pred = lr.predict(X_test1)\n",
        "      print(r2_score(y_test,y_pred))"
      ],
      "metadata": {
        "colab": {
          "base_uri": "https://localhost:8080/"
        },
        "id": "rdm6tVR3VX7H",
        "outputId": "c2779fd2-295a-4122-8f7b-2aaa174f2cfd"
      },
      "execution_count": null,
      "outputs": [
        {
          "output_type": "stream",
          "name": "stdout",
          "text": [
            "0.5763708288329722\n",
            "0.598889470611\n",
            "0.6226137237585738\n",
            "0.6237606803370409\n",
            "0.7008177860703304\n",
            "0.7024703152302563\n",
            "0.7067787716630826\n",
            "0.7188775672330592\n",
            "0.7328347550376506\n",
            "0.7331916120033976\n",
            "0.735220009766802\n",
            "0.7384671576192465\n",
            "0.7414065481850953\n",
            "0.7487263791912928\n",
            "0.748957915162289\n",
            "0.7641348045440952\n",
            "0.7613891343072092\n",
            "0.7842889257669312\n",
            "0.7898052127903716\n",
            "0.7881928114244505\n",
            "0.7912973299650748\n",
            "0.795127328873538\n",
            "0.7960243329295925\n",
            "0.8001078438321065\n",
            "0.7984113007729986\n",
            "0.7989173874168601\n",
            "0.799004205837706\n",
            "0.7988839360338034\n",
            "0.806027472106799\n",
            "0.8061953613547636\n",
            "0.819342067885242\n",
            "0.8190939523921493\n",
            "0.8178554766668668\n",
            "0.821011025620247\n",
            "0.8261197735805677\n",
            "0.8264822585664714\n",
            "0.8269810147868356\n",
            "0.8255183277854015\n",
            "0.8247479418071955\n",
            "0.826725386762912\n",
            "0.8250741095209456\n",
            "0.8307248396294984\n",
            "0.8307062156161141\n",
            "0.8316268042671552\n",
            "0.832058088490169\n",
            "0.8317040309843403\n",
            "0.8337995618014032\n",
            "0.8343539838668252\n",
            "0.8346309783791358\n",
            "0.8345093461959574\n",
            "0.8350298233347065\n",
            "0.8346179414441545\n",
            "0.8347528829520674\n",
            "0.8347557948912694\n",
            "0.8356179794705028\n",
            "0.8371179983056782\n",
            "0.8366917831717281\n",
            "0.8353886640005855\n",
            "0.8396289025646417\n",
            "0.836750363398989\n",
            "0.8415324902321935\n",
            "0.8415071248332546\n",
            "0.8448611175343349\n",
            "0.8450256512153627\n",
            "0.8455534031542898\n",
            "0.8453452528359366\n",
            "0.8453525597913564\n",
            "0.8448781766674832\n",
            "0.8437955904169406\n",
            "0.8439410525614535\n",
            "0.8454266184869866\n",
            "0.8442732628475983\n",
            "0.8440225057702788\n",
            "0.8472060607025537\n",
            "0.8477129298260881\n",
            "0.8477102690067019\n",
            "0.8488887682395935\n",
            "0.8501616761230559\n",
            "0.849825904580023\n",
            "0.8512498776043158\n",
            "0.8517030496226676\n"
          ]
        }
      ]
    },
    {
      "cell_type": "code",
      "source": [
        "pca.explained_variance_"
      ],
      "metadata": {
        "colab": {
          "base_uri": "https://localhost:8080/"
        },
        "id": "j4rNVKrRWSYz",
        "outputId": "e577df18-992b-4967-a2a7-c675b1408f65"
      },
      "execution_count": null,
      "outputs": [
        {
          "output_type": "execute_result",
          "data": {
            "text/plain": [
              "array([7.27198703e-01, 2.22385062e-01, 1.81518187e-01, 1.51188208e-01,\n",
              "       1.41657603e-01, 1.16699954e-01, 1.12199545e-01, 1.01094964e-01,\n",
              "       9.10300844e-02, 8.46570634e-02, 7.65491056e-02, 7.44772992e-02,\n",
              "       6.91521750e-02, 6.20587529e-02, 5.90076775e-02, 5.13025177e-02,\n",
              "       4.96842818e-02, 4.73575030e-02, 4.48402148e-02, 4.37491046e-02,\n",
              "       4.10650544e-02, 3.94535625e-02, 3.87995567e-02, 3.70088979e-02,\n",
              "       3.52076837e-02, 3.43059090e-02, 3.33596619e-02, 3.14029567e-02,\n",
              "       2.90405945e-02, 2.84631098e-02, 2.67819174e-02, 2.59531391e-02,\n",
              "       2.39381860e-02, 2.35037178e-02, 2.25080361e-02, 1.97993776e-02,\n",
              "       1.95905407e-02, 1.78862572e-02, 1.69234863e-02, 1.59864385e-02,\n",
              "       1.44844804e-02, 1.38228662e-02, 1.35143575e-02, 1.31343675e-02,\n",
              "       1.25200474e-02, 1.20154805e-02, 1.13263448e-02, 1.09303094e-02,\n",
              "       1.06490783e-02, 1.02708640e-02, 9.58381326e-03, 9.38221314e-03,\n",
              "       8.78458779e-03, 8.57048298e-03, 8.27277933e-03, 7.75530798e-03,\n",
              "       7.48140608e-03, 7.13467407e-03, 6.95001385e-03, 6.43651420e-03,\n",
              "       5.78532498e-03, 5.19757923e-03, 4.99658906e-03, 4.89219186e-03,\n",
              "       4.58812586e-03, 4.26639373e-03, 3.78731786e-03, 3.46660369e-03,\n",
              "       3.29949995e-03, 3.18114304e-03, 3.08108389e-03, 2.61428019e-03,\n",
              "       2.37999676e-03, 2.15560340e-03, 1.60634012e-03, 1.34329353e-03,\n",
              "       8.69262049e-04, 7.85163469e-04, 2.56418793e-04, 3.60227198e-05,\n",
              "       7.72961585e-33])"
            ]
          },
          "metadata": {},
          "execution_count": 29
        }
      ]
    },
    {
      "cell_type": "code",
      "source": [
        "plt.plot(np.cumsum(pca.explained_variance_ratio_))"
      ],
      "metadata": {
        "colab": {
          "base_uri": "https://localhost:8080/",
          "height": 282
        },
        "id": "zfkOYLqFWhV5",
        "outputId": "0f9b05fe-75d7-4437-e205-1742c3ddb06d"
      },
      "execution_count": null,
      "outputs": [
        {
          "output_type": "execute_result",
          "data": {
            "text/plain": [
              "[<matplotlib.lines.Line2D at 0x7fd6cae05e50>]"
            ]
          },
          "metadata": {},
          "execution_count": 30
        },
        {
          "output_type": "display_data",
          "data": {
            "text/plain": [
              "<Figure size 432x288 with 1 Axes>"
            ],
            "image/png": "[encoded data removed]"
          },
          "metadata": {
            "needs_background": "light"
          }
        }
      ]
    },
    {
      "cell_type": "code",
      "source": [
        "pca =PCA(n_components=50)\n",
        "X_train1 =pca.fit_transform(X_train)\n",
        "X_test1 = pca.transform(X_test)\n",
        "lr.fit(X_train1,y_train)\n",
        "y_pred = lr.predict(X_test1)\n",
        "r2_score(y_test,y_pred)"
      ],
      "metadata": {
        "colab": {
          "base_uri": "https://localhost:8080/"
        },
        "id": "RYrV5QdUWwXL",
        "outputId": "8920d7a0-7e55-4772-b281-d0d73b2cf6e8"
      },
      "execution_count": null,
      "outputs": [
        {
          "output_type": "execute_result",
          "data": {
            "text/plain": [
              "0.8341044297336766"
            ]
          },
          "metadata": {},
          "execution_count": 31
        }
      ]
    },
    {
      "cell_type": "code",
      "source": [
        "#Sorting the values of the first principal component by how large each one is\n",
        "df_pca = pd.DataFrame({'PCA':pca.components_[0], 'Variable Names':list(X_train.columns)})\n",
        "df_pca = df_pca.sort_values('PCA', ascending=False)\n",
        "\n",
        "# #Sorting the absolute values of the first principal component by magnitude\n",
        "# df2_pca = pd.DataFrame(df_pca)\n",
        "# df2_pca['PCA']=df2_pca['PCA'].apply(np.absolute)\n",
        "# df2_pca = df2_pca.sort_values('PCA', ascending=False)\n",
        "# #print(df2['Variable Names'][0:11])\n",
        "df_pca.head()"
      ],
      "metadata": {
        "colab": {
          "base_uri": "https://localhost:8080/",
          "height": 206
        },
        "id": "v81Ndw59Xasm",
        "outputId": "f528d874-ac54-438d-f524-3f49f0bf97e4"
      },
      "execution_count": null,
      "outputs": [
        {
          "output_type": "execute_result",
          "data": {
            "text/plain": [
              "         PCA  Variable Names\n",
              "19  0.294607    YearRemodAdd\n",
              "18  0.222281       YearBuilt\n",
              "58  0.192689     GarageYrBlt\n",
              "81  0.096885  GarageYrBltnan\n",
              "67  0.035662   EnclosedPorch"
            ],
            "text/html": [
              "\n",
              "  <div id=\"df-b5e4198c-251a-4129-8a75-cd22bde4377b\">\n",
              "    <div class=\"colab-df-container\">\n",
              "      <div>\n",
              "<style scoped>\n",
              "    .dataframe tbody tr th:only-of-type {\n",
              "        vertical-align: middle;\n",
              "    }\n",
              "\n",
              "    .dataframe tbody tr th {\n",
              "        vertical-align: top;\n",
              "    }\n",
              "\n",
              "    .dataframe thead th {\n",
              "        text-align: right;\n",
              "    }\n",
              "</style>\n",
              "<table border=\"1\" class=\"dataframe\">\n",
              "  <thead>\n",
              "    <tr style=\"text-align: right;\">\n",
              "      <th></th>\n",
              "      <th>PCA</th>\n",
              "      <th>Variable Names</th>\n",
              "    </tr>\n",
              "  </thead>\n",
              "  <tbody>\n",
              "    <tr>\n",
              "      <th>19</th>\n",
              "      <td>0.294607</td>\n",
              "      <td>YearRemodAdd</td>\n",
              "    </tr>\n",
              "    <tr>\n",
              "      <th>18</th>\n",
              "      <td>0.222281</td>\n",
              "      <td>YearBuilt</td>\n",
              "    </tr>\n",
              "    <tr>\n",
              "      <th>58</th>\n",
              "      <td>0.192689</td>\n",
              "      <td>GarageYrBlt</td>\n",
              "    </tr>\n",
              "    <tr>\n",
              "      <th>81</th>\n",
              "      <td>0.096885</td>\n",
              "      <td>GarageYrBltnan</td>\n",
              "    </tr>\n",
              "    <tr>\n",
              "      <th>67</th>\n",
              "      <td>0.035662</td>\n",
              "      <td>EnclosedPorch</td>\n",
              "    </tr>\n",
              "  </tbody>\n",
              "</table>\n",
              "</div>\n",
              "      <button class=\"colab-df-convert\" onclick=\"convertToInteractive('df-b5e4198c-251a-4129-8a75-cd22bde4377b')\"\n",
              "              title=\"Convert this dataframe to an interactive table.\"\n",
              "              style=\"display:none;\">\n",
              "        \n",
              "  <svg xmlns=\"http://www.w3.org/2000/svg\" height=\"24px\"viewBox=\"0 0 24 24\"\n",
              "       width=\"24px\">\n",
              "    <path d=\"M0 0h24v24H0V0z\" fill=\"none\"/>\n",
              "    <path d=\"M18.56 5.44l.94 2.06.94-2.06 2.06-.94-2.06-.94-.94-2.06-.94 2.06-2.06.94zm-11 1L8.5 8.5l.94-2.06 2.06-.94-2.06-.94L8.5 2.5l-.94 2.06-2.06.94zm10 10l.94 2.06.94-2.06 2.06-.94-2.06-.94-.94-2.06-.94 2.06-2.06.94z\"/><path d=\"M17.41 7.96l-1.37-1.37c-.4-.4-.92-.59-1.43-.59-.52 0-1.04.2-1.43.59L10.3 9.45l-7.72 7.72c-.78.78-.78 2.05 0 2.83L4 21.41c.39.39.9.59 1.41.59.51 0 1.02-.2 1.41-.59l7.78-7.78 2.81-2.81c.8-.78.8-2.07 0-2.86zM5.41 20L4 18.59l7.72-7.72 1.47 1.35L5.41 20z\"/>\n",
              "  </svg>\n",
              "      </button>\n",
              "      \n",
              "  <style>\n",
              "    .colab-df-container {\n",
              "      display:flex;\n",
              "      flex-wrap:wrap;\n",
              "      gap: 12px;\n",
              "    }\n",
              "\n",
              "    .colab-df-convert {\n",
              "      background-color: #E8F0FE;\n",
              "      border: none;\n",
              "      border-radius: 50%;\n",
              "      cursor: pointer;\n",
              "      display: none;\n",
              "      fill: #1967D2;\n",
              "      height: 32px;\n",
              "      padding: 0 0 0 0;\n",
              "      width: 32px;\n",
              "    }\n",
              "\n",
              "    .colab-df-convert:hover {\n",
              "      background-color: #E2EBFA;\n",
              "      box-shadow: 0px 1px 2px rgba(60, 64, 67, 0.3), 0px 1px 3px 1px rgba(60, 64, 67, 0.15);\n",
              "      fill: #174EA6;\n",
              "    }\n",
              "\n",
              "    [theme=dark] .colab-df-convert {\n",
              "      background-color: #3B4455;\n",
              "      fill: #D2E3FC;\n",
              "    }\n",
              "\n",
              "    [theme=dark] .colab-df-convert:hover {\n",
              "      background-color: #434B5C;\n",
              "      box-shadow: 0px 1px 3px 1px rgba(0, 0, 0, 0.15);\n",
              "      filter: drop-shadow(0px 1px 2px rgba(0, 0, 0, 0.3));\n",
              "      fill: #FFFFFF;\n",
              "    }\n",
              "  </style>\n",
              "\n",
              "      <script>\n",
              "        const buttonEl =\n",
              "          document.querySelector('#df-b5e4198c-251a-4129-8a75-cd22bde4377b button.colab-df-convert');\n",
              "        buttonEl.style.display =\n",
              "          google.colab.kernel.accessAllowed ? 'block' : 'none';\n",
              "\n",
              "        async function convertToInteractive(key) {\n",
              "          const element = document.querySelector('#df-b5e4198c-251a-4129-8a75-cd22bde4377b');\n",
              "          const dataTable =\n",
              "            await google.colab.kernel.invokeFunction('convertToInteractive',\n",
              "                                                     [key], {});\n",
              "          if (!dataTable) return;\n",
              "\n",
              "          const docLinkHtml = 'Like what you see? Visit the ' +\n",
              "            '<a target=\"_blank\" href=https://colab.research.google.com/notebooks/data_table.ipynb>data table notebook</a>'\n",
              "            + ' to learn more about interactive tables.';\n",
              "          element.innerHTML = '';\n",
              "          dataTable['output_type'] = 'display_data';\n",
              "          await google.colab.output.renderOutput(dataTable, element);\n",
              "          const docLink = document.createElement('div');\n",
              "          docLink.innerHTML = docLinkHtml;\n",
              "          element.appendChild(docLink);\n",
              "        }\n",
              "      </script>\n",
              "    </div>\n",
              "  </div>\n",
              "  "
            ]
          },
          "metadata": {},
          "execution_count": 36
        }
      ]
    },
    {
      "cell_type": "code",
      "source": [
        "#Creating Price Categories for PCA Visualization!! We may want to use\n",
        "#this in training classification models as well\n",
        "def what_bracket(sale_price):\n",
        "  if sale_price <=100000:\n",
        "    return \"Tier 1\"\n",
        "  elif sale_price <=200000:\n",
        "    return \"Tier 2\"\n",
        "  elif sale_price <=300000:\n",
        "    return \"Tier 3\"\n",
        "  elif sale_price <= 500000:\n",
        "    return \"Tier 4\"\n",
        "  else:\n",
        "    return \"Tier 5\"\n",
        "\n",
        "y_tiers = y_train.apply(what_bracket)"
      ],
      "metadata": {
        "id": "ujwPCoxtZoJt"
      },
      "execution_count": null,
      "outputs": []
    },
    {
      "cell_type": "code",
      "source": [
        "pca = PCA(n_components=None)\n",
        "X_train1 = pca.fit_transform(X_train)\n",
        "X_test1 = pca.transform(X_test)"
      ],
      "metadata": {
        "id": "Y1CG43Jpio1C"
      },
      "execution_count": null,
      "outputs": []
    },
    {
      "cell_type": "code",
      "source": [
        "import plotly.express as px\n",
        "y_train_trf = y_tiers.astype(str)\n",
        "fig = px.scatter_3d(x=X_train1[:,0],\n",
        "                 y=X_train1[:,1],\n",
        "                 z=X_train1[:,2],\n",
        "                 color = y_train_trf,\n",
        "                 color_discrete_sequence = px.colors.qualitative.G10)\n",
        "fig.show()"
      ],
      "metadata": {
        "colab": {
          "base_uri": "https://localhost:8080/",
          "height": 542
        },
        "id": "4X4AOSXQfDRy",
        "outputId": "89d00e77-8778-4d77-e525-1d4c194169cf"
      },
      "execution_count": null,
      "outputs": [
        {
          "output_type": "display_data",
          "data": {
            "text/html": [
              "<html>\n",
              "<head><meta charset=\"utf-8\" /></head>\n",
              "<body>\n",
              "    <div>            <script src=\"https://cdnjs.cloudflare.com/ajax/libs/mathjax/2.7.5/MathJax.js?config=TeX-AMS-MML_SVG\"></script><script type=\"text/javascript\">if (window.MathJax) {MathJax.Hub.Config({SVG: {font: \"STIX-Web\"}});}</script>                <script type=\"text/javascript\">window.PlotlyConfig = {MathJaxConfig: 'local'};</script>\n",
              "        <script src=\"https://cdn.plot.ly/plotly-2.8.3.min.js\"></script>                <div id=\"d5bf7db8-1064-411e-b012-e70157b1a8f2\" class=\"plotly-graph-div\" style=\"height:525px; width:100%;\"></div>            <script type=\"text/javascript\">                                    window.PLOTLYENV=window.PLOTLYENV || {};                                    if (document.getElementById(\"d5bf7db8-1064-411e-b012-e70157b1a8f2\")) {                    Plotly.newPlot(                        \"d5bf7db8-1064-411e-b012-e70157b1a8f2\",                        [{\"hovertemplate\":\"color=Tier 2<br>x=%{x}<br>y=%{y}<br>z=%{z}<extra></extra>\",\"legendgroup\":\"Tier 2\",\"marker\":{\"color\":\"#3366CC\",\"symbol\":\"circle\"},\"mode\":\"markers\",\"name\":\"Tier 2\",\"scene\":\"scene\",\"showlegend\":true,\"x\":[-0.9389196280867751,-0.013659336778308665,1.2464299607849902,0.49758821967457606,0.7491714351848615,0.878658540583431,-0.6901066942399239,0.8773437756006579,-1.0672805469523132,0.4941859360169263,1.1645716266024218,-0.052751254335433165,0.010109515139396235,0.23800325499262337,-0.8030061837122706,0.06685717873114597,1.1316720988686948,0.6744333161782238,1.2584489117423925,0.48602997991888147,0.8243132267306541,0.6978175160757734,0.013363000075337621,0.5863147055342603,1.1029168171155046,0.2350145831397784,-0.5395228274032959,1.0558884373977813,-0.7597002739387385,1.5065611606836258,0.29650270443148563,0.36966839773295035,1.1338252610810953,-0.7032766078401186,0.3494527797081411,-0.6889831285972609,0.7484827737672985,0.48476933675747486,0.6179477468335485,-0.020732854804600038,1.1439082435434582,-0.6554411450918075,-0.7262352165522707,0.3585512688948,0.0630572064853628,0.7084239415932377,0.2836173489420922,0.7485473471523922,-0.11095981454564502,-0.4008927415893274,0.3204309632738824,-0.2706082359083548,0.6234300598624606,-0.5312721951478458,0.7308850483673928,0.35676843030947347,0.4381006157614764,1.166108247883735,0.12625767014301362,0.3623031355237106,0.7691904895757051,0.30281567645891067,0.31933941837789775,0.38986564904823257,-0.04263464122688238,-0.9205421449011661,0.9779135699457723,1.227169356046838,0.3550773003425538,0.7962586499133241,-0.8910554956128944,0.2944724088390536,0.8013764059724559,1.3185192745091436,0.2221821715706932,0.34086978493929715,0.45751615935557854,0.36052545409878545,0.48667259412942093,0.09773306260873504,0.2713267123769905,-0.25014826516922933,-0.8345783911488508,0.019606062744035504,0.8623929838521239,0.8799917564403943,0.03685786294661704,0.6316864552706266,0.49863064651515926,0.5365271906715735,-0.8033208750372317,0.13615553922161555,0.9035543912884781,0.8726203132421462,0.5399599072385834,0.8083616848561701,0.45740568640099755,-0.8087651701529288,-1.0128544453043957,-0.17226964991338956,0.45504986032885614,0.10316622592416262,-0.6269976240376507,0.6759356547424475,0.28384174806387413,0.5228859925901893,0.6492793888252976,0.7344120260442353,0.2278382595026043,0.3478899618160207,0.193019838912215,0.5082105759782476,0.8500737297048854,0.13246173893248867,0.004226746206506677,1.0568473982697943,0.055126758142890586,-0.2643600747146694,0.29529465519880393,0.3406980150447695,0.29460142323337835,-0.13255030721386785,0.2844718096344205,0.024517840741572563,0.5263398589961962,-0.26992795400867053,0.7399209948364887,-0.017847586508022477,-0.33466608037044854,0.6382048592344967,0.6942442278711448,-0.1059558993039836,0.0939274875372729,0.5429813767935195,0.4000990752135296,0.11239710569473303,1.230761324361157,0.7791565269607028,0.7170195696039016,-0.5986655021560191,1.144082733867094,-0.8266412634545067,-0.21920441495043969,1.0913056968766925,1.0844663319895704,-0.5747781856566211,0.821479653352813,-0.8669554509821122,0.22063337178461742,0.3287594921303118,0.8653660168062419,0.5160423465674956,0.5150327475150615,-0.763323656822518,-0.14064303390140548,0.5521184999783583,0.7680946497466541,0.14699202064859668,0.47708488104032437,0.1944645805621536,0.341794381207532,-0.04607919100579253,0.3539782394009883,0.6713417210480624,0.0541502693231123,-0.8445622521522483,-0.6597223168337149,-0.05795266850273486,0.1586523348817994,1.537636758723178,-0.3858810116427976,-0.06293828669742672,0.7420391961643147,-0.7507710659433458,-0.04650944076830652,-0.7892406099609494,-0.013621818752364909,-1.7929727043884836,1.6054786555600056,0.3425918787377792,0.41377621519497815,0.0773627550933886,-0.24268132668901105,-0.8838639476044557,0.39041720844788097,-0.1636916783308067,0.580705027178633,-0.36725625782480736,0.6940723956704559,0.42952592452793387,-0.8780681348133118,0.36077946337591515,-0.6420997527624837,-0.34613532641518774,0.537986066584573,0.838488615462952,0.17609197569955745,-0.7530882397144855,1.3623725157789417,1.101346889267505,0.6457724108054569,0.8671171027777048,-0.18495087796875317,-0.052933493259584255,-0.13143120494947141,-0.22273931299576302,1.4202766668758087,-0.7977395702177165,-0.33671827470017063,-0.67010648834465,-0.8264896697218249,0.6498893424896164,0.4410507025930797,0.9371984996599798,0.417349664441534,-1.1406363818721037,0.5454728231620981,-0.210257830952623,-0.7547895128505346,1.1617487483641091,0.3997622614169863,-0.3455316372751388,0.13719427922446323,0.2997400456018858,0.2146466481693599,0.10921012381027599,-0.7747556371706468,1.1867845702135436,0.6850026256542792,0.545464772081938,0.9490497973782412,0.7258763080195864,0.08713962622583796,0.006251485403309936,1.0436374764478222,-0.48606526756857044,1.6849670361916458,-0.8776523981507202,1.0038749306170531,-0.4575891872914038,-0.0438480933346226,-0.3804722814546458,-0.32090250891776984,0.14599809026084076,0.696957985532171,0.6066277165613864,-0.21324674776308475,-0.7338735607167364,-0.9103163329736131,-0.39800897505078914,0.27899321102735974,0.9218985813168876,1.016190630807164,0.27382037717725966,0.8405610897738798,0.767350716645646,-1.1141974393920695,-0.7150576483802934,0.9557496894461072,1.2454451488879683,-1.5097271255193454,0.4430631553578301,0.6536399987703354,0.7627215514931744,0.7978959804913752,-0.778831000778433,1.689763698789902,-1.0806792901708397,0.5337901655840467,0.6223386235063211,0.8162920759002343,-0.9407091559716693,-0.9565797377438745,-0.001105906813702667,-0.24444295365855387,-0.7963619248721949,-0.4518251231518716,0.92084877142626,-0.07698660638376809,-0.30643336050629977,1.2409797361037376,-0.8161683015751113,0.008285863093658327,0.3711378053233374,-0.600305366893794,0.958232324769533,-0.722061279040857,0.0007895310060868851,-0.04926730456726363,1.4504086150908002,0.6819921864378075,0.6729727582192774,-0.8651805641541181,0.633115142521113,0.7235121213684543,0.1917720200230966,1.129214532819246,0.14789261238793674,1.3574713633735769,-0.5150316688107923,1.1688240255859146,-0.2269359962382933,0.5996271637323061,-0.9577919426362934,0.26627850518335716,0.17804896540893067,0.32909715791713623,0.475465921500182,-0.15256729620213966,-0.2468855928729225,-0.6720782976980427,0.4114314243961886,0.1628109301855599,-0.8137458989437214,-0.05159947597079029,0.6295782474672846,-0.9670387205268943,0.9064536779080675,-0.38419365698550256,-0.41593322157115603,0.6995588829934946,1.2632513218489838,0.24141215781704237,1.190984661291702,0.5958940084973273,0.8916447783659479,0.29289324754548524,0.7203102053910411,-0.40807208435937276,0.8659017642675794,0.12002420990430766,-0.40436310702115025,-0.7629210648288515,0.5320411142390762,0.3203703235944699,1.1018309798066794,0.5372145887403127,0.43584322907049566,0.3161413982964565,0.3817948096796638,-0.07214846328629519,0.5462307405445338,1.3711696328902916,-0.13332059105528746,0.07086207295804788,1.2630502388430869,0.2948114919852752,0.5637376069692305,-0.42822859194166424,0.6107365303101667,0.2255180676585921,0.03579403349521119,0.6878961756118954,0.06434539902021577,1.012998243667509,-0.7188807270627772,-0.3581731238142912,0.30427411255348363,0.13400027909573956,0.40838114449401186,-0.8887677939448326,0.8837803273910736,0.12685080724682454,-0.32959753668842606,-0.022125152987812098,0.6252670253076303,-0.26434893089208944,-0.06569566907274534,1.3717432722548153,-0.07331182689503561,0.3211923390873665,0.26297922264198353,0.6331310983930938,1.1048357877669963,0.19581480987856684,0.8915823707011417,-0.40469639779062794,1.2483844891091385,0.34080107736887305,0.3468340324406378,1.054611868276698,-0.9505011968575824,0.2872935157812711,0.7147042472250651,-0.19731649946686794,0.11164425735356012,0.6619881304052782,0.10513371986189061,0.8122940315878194,0.4750401507606027,0.32349320123233444,0.2966665794640773,0.799327176518817,-0.7572799241254252,-0.1414012759990854,0.6468594255441695,0.06808032468335949,0.3314574490960516,-0.9701928648154989,0.8103695902509742,0.5130562454347132,1.3400790792386439,0.890939396623164,0.34131889951260835,0.7873382264162966,-0.09191925816028564,0.5307332688397027,-0.3860482113124453,-0.7507608967005522,1.0029676606508242,-0.06764362319048059,-1.0157901265872766,0.1931913598001511,0.5440859480567185,0.38936447293515375,0.7336876699404553,-0.8180641875474822,0.2560586384125557,-0.3348932259334833,1.304128206168922,0.08933863715215752,-0.39128306595222534,-0.00535383760240921,0.983115101834138,0.8107354196929258,-0.14267358902997718,0.4793882148160127,-0.36755006890931696,0.2702730730927843,0.8635288433959539,0.19764226704814775,0.05456076305745291,0.8620659285454433,0.5427030339807805,0.6859077995029951,-0.8937566580161881,0.8699483797975219,0.966763769290743,0.3059906545086962,-0.9771769670151006,0.032294853658977114,1.1327392759149106,0.10664956724227459,0.32279579505002903,0.7478090537502822,0.8213036228484735,0.21346819586820048,0.8506560173642057,0.18245986441242773,0.9397872916945341,0.2713625937730202,0.5911363141444749,-0.8065888322522625,0.19205057757021407,-0.4185875631386764,-0.021481905463506045,1.1252258441371983,0.35414764369288887,-0.6924883171688518,0.6774433312010206,0.43621301483972813,-0.7423980746810811,1.0798267168402944,0.63636751108337,-0.9180826220225684,-0.7484057802521057,-0.1000362403681036,0.39634744946083494,0.8129801392317624,0.04284891881488355,1.0288885237711078,1.2869532397153751,0.4594437524461965,0.5287782971400858,0.45030280460618594,0.66341161423109,0.30821766369885,-0.42362979653751975,0.1795258686773242,0.9698543792641668,0.16281265981959936,0.16780724518705226,-0.3278274885593076,-0.31474556072882104,-0.9319028779278725,0.8087824766509484,0.14206043473685337,0.6044343043951005,0.2556761520790734,-0.6348974679362992,0.9263587846183401,-0.16784048163655604,0.5841914686300097,0.6203078339584928,0.5852206426581186,0.720210945525301,-0.9469341767690718,0.34562709535410424,0.8562734242044122,-0.49038118547468657,-0.6126827070965452,0.08517382034787076,-0.31185565716037345,0.6171286722698061,0.8557878607292049,-0.7211678504266135,0.016290939589114886,0.26582680742832554,-1.0963661356868084,0.9623721247573724,0.04827390513809518,-0.8799671333330499,0.620126227418599,1.1735183862058831,-0.8735276870227237,-0.7349211337281207,0.8494412303707854,0.8029560617189053,0.6174189554165267,0.9977945088129956,0.8733847871586966,0.9184794347852778,0.4978881119648876,0.029138315057949053,1.3776652107699252,-0.45760852076176917,0.9762112601713234,-0.32719295633697115,1.035114730919644,0.09031862105694012,0.34823195549945113,-0.3599535748919247,0.6210622009118897,0.24678875677420956,1.2406313261839352,0.4513446750988407,1.1153142088793648,0.710890848122293,0.9299913899107564,0.9287343748603483,0.34184430444956576,0.39004380836505786,-0.27406531108067117,0.7161900693204583,-1.010440377756387,-0.7822971929596118,0.9162044368276093,-0.37083057389517593,-0.7756264376820358,0.7850761201809011,-0.8304152928440809,1.2654214947208513,0.25605975551387594,1.4960657889354767,0.6661620778367351,0.357939808174361,-0.9015359848823526,0.16280676940349825,0.5213467183245614,0.8546959164183011,0.4829876358427449,0.9249487512069299,1.2075660717453518,0.6960519043782348,0.5339022872367004,-0.8056270801904589,0.506103191970153,0.4512690886887875,0.4889049431702309,0.14044246086053952,0.6014380312092928,1.5625960801339693,-0.9623590223271451,0.0723257618301637,0.29186925834940275,0.3340467858868813,0.7054656793225137,0.7034045065648877,0.04903884906582106,1.2973993797479753,0.7619661630850871,0.20391697325702274,0.08612604380301062,0.3505361584719828,-0.7861930057065427,-0.5648226761726177,0.7011655851179629,-0.14518105796366945,-0.4287940104023339,0.5348242698505475,0.03197534856455071,0.355411258102807,1.226888097640248,-0.46595475926395985,0.8719582892151566,0.07165730967891326,-0.04389259259265583,-0.3386812136718557,0.9468221974402168,1.0513171035397797,0.5044399358407056,0.9961146132942997,1.09389093566292,0.8722116801428399,0.5957548647881058,-1.079696060854924,0.21536255290401587,-0.32361158707847226,0.127720368618683,0.5394895893526609,-0.34322138474389635,0.5875300068659222,0.9629171621858443,1.4235544456292621,-0.07961006913354604,0.13592785707357993,0.42310462664224435,2.0171936787008153,0.5584417077249227,0.2278965968849828,-0.6993397602589105,-0.7724937424293382,0.9385366692110609,-0.08187036523395862,0.6607363860969342,0.47354621785033496,0.23174015600221232,0.24970890516693467,0.9918644274216174,0.18669783669522252,0.257941750152589,1.1692063401659574,0.3374787333267868,1.333589844790992,-1.0285811856973672,0.7185518046579661,1.0189090029840866,-0.9373027096918126,0.32257291586260073,0.48993433944981946,-0.2488193946355329,-0.6052504945373869,0.748569639502584,-0.7240278896212808,-0.9535145744475787,0.8290148646997915,0.8590678459317241,-0.9613412824068172,0.6016543993107271,-0.42672372273771175,0.12054737602885793,1.355556492077441,-0.21964665801175048,1.134560242657615,-0.7037197306509306,0.6718530699564226,-0.23879257084269156,-0.4404102955848335,0.5952276041276604,-0.8351443590641825,0.2986463771391686,-0.705802688328471,0.946849858037099,0.982250435659782,0.2458453429178822,0.8498789420162216,0.5255495416870785,-0.8777030828733784,0.6797639219549011,0.8051093144276664,-0.8816929478897954,0.3888537758164006,-0.3089973561410171,0.275854004285669,-0.7966479256217154,0.7362210528367328,0.732295364276464,0.482604462114952,-0.9903226313084924],\"y\":[0.45815464742314244,-0.46559466562279256,-0.091717323814209,-1.103282835227509,-0.3248447451870337,0.08272262463492913,-0.0185061976033528,-0.2265177548232058,0.3018201902016882,-0.7408441506547344,-0.11579955037904337,-0.5708995809224714,0.3039691483351196,-0.4965863771440384,0.20107129025397463,-1.048612086386109,-0.18043728457399022,-0.4181464756719904,-0.09321637029315172,-0.4370389971318812,-0.3942100020084537,-0.6334972015872601,-0.29228578516823506,-0.1918899405475,-0.23690242970468572,0.2194112935275343,0.2664933903582443,-0.5221351931187324,0.47407452073993656,1.1423809226719266,-0.3915755398647133,-0.14895355820088255,0.8900534442497974,0.27290655400909153,0.3698366110900881,0.09367619312410651,-0.13250017797505748,-0.6289025338872318,-0.260769619918544,-0.2615335724520261,1.8495828678172972,0.32183804268402433,0.5553220122552008,0.08914988156904947,-0.7665990886530328,-0.18590277210073228,0.5233645877798165,0.045758611201187925,-0.3407901144278923,0.7314975228318826,-0.2117256432452371,-0.08379162774867117,-0.05008153527675714,-0.5021342131578491,-0.9536298683272532,-0.04000531347872654,-0.3120918925707412,0.08168628165366898,-0.31602924881423383,-0.5880155204400349,-0.14441856172564455,-0.63165023258881,0.14415198562055292,-1.0165584070872669,-0.3207988647298936,0.44603796016775443,1.2886635186299416,-0.6148354617951126,-0.1631081935708576,-0.11021726765559632,-0.1890835669850398,0.010035676018101857,-0.2705116050379767,-0.15614470052470347,-0.2584239718376208,0.05369250471525284,-0.04774850988262333,1.4376674489796444,-0.5523226806524627,-0.14249507611294732,0.09506620469134083,-0.2624709702759524,-0.38912511743778155,-0.13787280927749312,0.5162639076716709,-0.11727874657714542,-0.7252281883679029,-0.5993087832451596,0.35934040180535926,0.17888895481504555,0.47540879863756297,0.07378461872233254,0.6739405677085801,0.2849859414166064,-0.2155274146418083,-0.28878954629662695,0.273045884004492,0.5692278731261079,0.3672643616550936,-0.5467602945133221,-0.5628462098835059,0.24412533606556885,0.26471905278156443,-0.03608789728282407,-0.4159753867479856,-0.7362645370035518,-0.5583287287285386,-0.05754616622198915,0.11150045480364985,-0.11520400634352006,-0.7378989249541943,-0.23480508562788877,-0.1988763063864854,0.033365822751979204,-0.13562064464260037,0.2972785172604436,-0.13586219910141736,0.5509310261113065,0.3924669495869261,-0.23068016729252896,-0.23769549155801306,0.3625469252547753,-0.36228216599533697,-0.4580174958209169,-0.7962748774640139,-0.3301167368966628,-0.8740180319722519,-0.5447054764907409,0.4873180920531277,-0.004399182579350478,0.07347429508722012,-0.3799612489805616,0.27276876106162157,-0.3795097360689125,0.30543484259545195,-0.5612281217196053,-0.24704872838853892,1.0211931488689308,0.3748079743541006,-0.41506447083577236,-0.12923931702832453,0.4780701278678336,-0.48540971331396265,0.23034979709963982,1.1917593546313487,0.4699148509243524,-0.4375436438942374,0.23043013584881675,-1.0519090626863026,-0.4515617987627861,-0.6121755954905085,0.2177849083140517,-0.14131693867952833,0.2967377001587682,-0.4022970459405168,-0.8587704553433172,-0.12229533567621252,-0.333851629431824,0.16398097938179584,0.24444123887285724,-0.5429936349832339,-0.36334014721403307,-0.07079329539455631,-0.10596848924413264,-0.18915679656463838,0.050085851230587564,0.4900213867758979,-0.04892965235237531,-0.2574167045519464,-0.4013229855991546,0.17050284205178515,-0.9239319582155497,-0.32440848092916375,0.12590347039817731,-0.011983539110199051,0.493192088508647,-0.3561430605657042,-0.13563876165445293,0.7827895932161291,-0.02766558406740791,0.03184262726918852,-1.2299807428547207,0.45627067370416635,-0.21517088416291827,0.3722458356879731,0.3106445010213107,-0.39375558537023125,0.617385614799169,0.01778331418656449,-0.4445880766779985,0.511221349816397,-0.1961644122777482,0.40269604906062695,0.2762007985221698,-0.6723700088392596,-0.08810393010708867,-0.45957793946902376,0.539128559372718,-0.12006661325974381,-0.055998271966714044,-0.21008360796995323,-0.3898632848725823,0.8350850306571688,0.6975594852088813,-0.23771827247608893,0.5230974312009343,1.1570933064965392,0.5639862155904012,-0.241081091239657,0.09488958781751312,0.1621217164679698,-0.22422311521406318,0.00819364031790181,0.05821593235793311,0.04178316226744926,0.3247009697411506,-0.22265455041710594,0.5326328590330155,0.27410723404364723,-0.4910821791881534,-0.02854784224613845,0.5051726955044408,-0.15348192111600117,0.24754010832188006,-0.2862783590271815,-0.636044397153819,0.31854530528336933,-0.025495451042937132,-0.8601171705315335,0.5249228051518751,-0.27701534875280837,-0.01011239663780087,-0.08541627285954646,-0.9093200385020773,0.03080033031154771,-0.3835169263293481,0.8945927063681843,0.47603280189388664,0.13945798392816985,0.1178289061193253,-0.1538226721984285,-0.4332765189739117,-0.48165277770536846,-0.8422796726170526,-0.5132100924485378,0.150821845482884,0.16633789930228884,0.6082831203341715,0.5392086032669304,0.9579470008381348,-0.316161303597034,-0.27433951715624205,1.1247351745999,0.22547703769909067,-0.2287485319570947,0.267349549078306,-0.05230142025622084,0.21913685134586194,0.08813146366004512,-0.028923126545906248,-0.8497599469709998,-0.7995465249693022,0.18979142812104438,0.22838815765460507,-0.5596073695611632,0.49966698110040847,1.0139344589996688,0.1883481632863545,-0.6567445311157143,0.32798806957920024,-0.05910434352338782,0.366400374048985,-0.4392325180016794,-0.8051833448732998,-0.7618062218747672,0.3308814911357447,0.19510805617653013,-0.14154687449781336,0.36075067527270815,-0.43507232544631524,0.3012005918179005,0.47176795183037873,0.1618403765160375,0.23380983917121623,-0.3006161401538868,-0.14787884370455168,0.4915235211478369,-0.06435396007540592,0.4205892446104847,-0.21177322870897516,0.00843463755424579,-0.0383870105779404,0.5899492880780131,-0.3414347718767253,0.1275055571228381,1.441236205914143,0.2155070996132005,-0.04821008129741921,-0.23439253015450684,-0.28802890817734916,-0.1927270143591306,0.572746406387627,-0.004542710240225534,0.3041044472517052,-0.007646419987757645,0.16556968594786664,0.08047354521076394,-0.8893556422610673,-0.45659623543041256,-1.0263288638436858,0.4874588662954311,-0.24045649816137843,-0.3107939041229601,0.45311336180399564,-0.08447443884257368,-0.4803203054820619,0.18061009037908698,0.19302546028173131,0.1409406377347859,0.1337010970164268,0.5643715871049315,-0.1964257264098467,-0.3637242050225731,-0.0498887061708797,-0.6313239455309378,0.008292290876988193,-0.7383955470844277,-0.40165224827894447,-0.45570873537515344,0.061898108844189254,-0.6218088461912202,0.9491313895624974,0.3643101087329096,-0.33141169672097653,0.12154670628316808,-0.4809778579608215,-0.10516890125588009,-0.14504277537020782,-0.10812045358987452,-0.09123087797215565,-0.41917081947116885,-0.07679587940941872,-0.13240519889444632,0.06959622412665314,-0.13044191357869034,1.5512933327979028,0.47553265066394035,-1.0062670419380393,0.400606664460576,0.05718921062359756,-0.50180885238964,0.19806608082828508,-0.3957576704543467,-0.7500216716123361,-0.012998951333587696,0.643938540809151,-0.6334445411632535,-0.23614611837868763,-0.0443872341243334,0.3903335819958358,0.8345770749939986,-0.26489288167142166,-0.5426176104435351,0.6352132110718575,-0.7890171168317844,0.4210352144595029,-0.0530927290301439,-0.2845561923855082,0.3787805369785106,0.3842301037321947,-0.0844429324878759,-0.022857310139848812,0.022866641256516614,-0.12371369480532261,-0.2246822498550954,-0.19070425690648662,0.37472451082713343,-0.12579606011470293,0.27402642704388536,-0.8186264684985063,-0.11344184777420978,0.6019371939904377,0.42717604356266936,1.2747368042552027,-0.5035861911844299,-0.6641621557992974,-0.8238949401537847,0.23410544298376398,-0.41227639612175343,0.1555915505054288,0.30957145274574305,0.07686935230376238,0.15508594003406265,0.4983067368858419,-0.5886559389513181,0.40173698699319754,0.17627583029355143,-0.15391740724667805,-0.08075292325591289,0.025536386618955347,-0.07438722568756624,1.1345126695903127,0.30216972649219737,1.421149736142189,0.046089660220484635,-0.18095226547567367,-0.5488397568734197,0.5343037001701713,0.1340252214680464,-0.29379562209555604,0.48338014203802704,0.30113714601332014,-0.5738724615653258,0.630304882288129,-0.7694933697244484,0.026391740132202,0.5069630577587351,-0.25052202588520317,-0.14970968871883503,0.2429790747476059,-0.3853135528841357,0.387660906301599,-0.17598791961720361,-0.3196397561198339,-1.0121710462537863,0.5433076088028428,-0.3875457208054252,-0.36616586681988644,-1.0041595320908814,0.4629806698834626,-0.15524221215985734,-0.067421845557509,0.11212904925780828,0.08865789774491407,-0.1981465540002273,0.45687835128265136,-0.6269303505031038,0.35327428272623,-0.5827697581271445,0.3762968917715034,0.09065729748941538,1.35654314302343,-0.7461689923113671,0.06663726482004514,-0.5927668433202852,-0.29712478674333714,0.09908726598308976,-0.22222006732055405,0.03560909356065564,-0.07210283530408297,-0.0076308799197806355,0.22564334733846458,0.18954083130869184,-0.5009833268146334,0.9125444697448858,0.059115756515079367,-0.2779141192232234,-0.1069404313524112,-0.13001003624264532,-0.043359886880658616,-0.1585361461464447,0.5808627664595943,0.18584155627310506,-0.33899637533602167,0.35170837823305934,0.3413379658452358,-0.2495284982364542,0.1461646218910829,-1.0056419677799713,0.44852771617194376,1.0420952715161296,0.10743256739821322,-0.8834554142536817,-0.6561061819892005,-0.4913910640648338,-0.11454635729242403,-0.7780529166646185,-0.16567657576103367,-0.2390167583512536,-0.3201975117149018,-0.7160349167675323,-0.2026494654929028,0.3026426644618766,-0.0157681809704567,0.4744235336129276,-0.4223003255619885,0.05517589620766848,0.149701829426488,-1.0198283595650692,-0.17813125434494093,-0.39397545248514393,0.004533422580590284,0.16616404198642953,0.49944994577339896,-0.12145319158267091,0.27022609477995896,0.47290366171301296,-0.8033149778497105,-1.4499199320874692,0.2399364641621877,-0.14953184901224023,-0.005065921657655353,-0.03561335690528607,0.2210772421517405,-0.5671244189157622,0.3276422005153526,-0.402307005432423,-0.11524831984637757,0.1378473753998542,0.13226355780679103,-0.856712460121367,0.39467060598506254,-0.3079847056199789,-0.20709893319556236,-0.16001907967684617,0.35491979768887294,0.03652098550724631,0.5847427449948321,-0.6597617093729841,-0.6619642715630717,0.008121218073591301,-0.3034705586430784,0.041273484937688315,-0.27466478481180195,0.18120983438560195,0.412070112020702,-0.0016185992559220395,-0.04639475625647336,-0.19506016737911064,-0.1195098067175386,-0.11527166575879205,0.7763091854677815,-0.6322741874264866,0.2196227692615213,0.24428229697220058,-0.7573756015585673,-0.06282296181355645,0.3231499287775663,0.7535414442599502,0.0248442442815509,-0.48844855567840534,-0.4997299354083302,-0.24938169516405695,-0.39866071463904806,0.26674953955587694,0.14149582243125297,0.3597228026926709,-0.45870281497049786,-0.06948304788522564,-0.619848178722776,0.5419112720585767,-0.3194883660073658,0.1704538189735343,0.47920018395901715,-0.2735455421697901,-0.6174776164739784,0.688550943325843,-0.3073319653316793,-0.0791379713360922,0.3971235959563994,0.18484443330044353,0.7521967731151187,1.3968987853198245,0.15767763960950992,0.07819364040929105,0.2686186400953786,-0.5792542396537503,-0.2212837114300795,-0.26076571845900176,0.16491291449286313,-0.4960788193657148,0.0396722373308039,0.2922822386280235,-0.017284843898170078,-0.6901408694890239,-0.3911562936813867,-0.6051778943634273,0.16847312536317802,-0.020372650261472985,-0.0862660978314757,-0.556037681227209,-0.15151394355488668,-0.339374876376772,-0.1873832882034658,-0.4656780641178127,0.4631876728864436,-0.21959412930983213,0.2869678802960402,0.5521771553437049,-0.3787755604428009,-0.46788444498022197,-0.3196483711998988,-0.9198030461589575,-0.5806669980395429,-0.21002325076042735,0.09009416395082577,0.0065817989733285625,0.648066599002596,-0.36725860650807796,0.9123156060207619,0.1075606518334613,-0.20936672897606645,-0.020219986416726874,-0.2976814360167885,-0.14043137707501901,0.4345643985879954,0.4045873487431708,0.4649646446962102,-0.1510453889358754,-0.39361108439835846,-0.6216441612465076,-0.5211735217077736,-0.52814105798306,0.058019716897499386,0.32677108839315666,0.08396519477494555,-0.9728387531636645,1.2813874801332847,-1.3049940080941176,-0.7299380388657164,0.45650248571440066,0.2769028727481575,0.5403182489593374,-0.5660866840325864,-0.1662032685971364,0.09599188856010604,0.06422582113170591,0.08159861883520612,-0.008246929625552912,-0.46086994454805585,-0.9325585973836409,-0.1409912573738976,-0.02928860621481382,-0.012734887020898757,0.31913919861137335,0.3586981689466042,0.03442360205205793,0.5617657961420455,0.1392191643003867,0.45027503250463796,0.19342911006220784,0.21534110582111216,-0.19799012427825696,0.14148591363570343,0.28375598847519096,0.14504472370667862,1.3186092887926253,0.27670259424601507,-0.4403373680396564,0.755759825449985,-1.4551537558346126,-0.4173869237151456,0.5084154473827487,0.6799669782772049,0.6319864508808357,-0.5626078618351644,0.08063959560921975,0.25193193440750944,-0.6254304325327038,0.3384027640227114,-0.08650135239893889,0.5263002564070166,0.04847306731328241,-0.7543630711745549,-0.8615705147433432,-0.025676691579412634,0.08092477473581801,0.45833328965721665,0.9683027876839173,-0.8586523806523721,0.7174463115219081,0.004282456115553394,0.691940154849441,-0.15643111524168,0.3451291732220263,-0.31247671855250997,-0.1364453415195709,-0.21623760558298397,0.0657757190576459],\"z\":[-0.02725497226336871,-0.6738149430012734,-0.04704893468731359,-0.1131314851176442,-0.0022001997261325208,-0.0339148453880699,0.7560910896485478,-0.047776059120423035,0.1032103721387439,0.49559361643545735,-0.09506291107538976,-0.7172413997287622,0.2473810446117785,0.46973433001690534,0.24769500271265504,0.023000651899280435,0.019091253983842538,-0.6726017687140452,-0.8092631625209384,-0.008243623881661815,0.03985222044759963,-0.7655443282136274,0.6735193657329097,-0.030798687645077316,-0.1361545760347521,0.0029385423523632425,0.20663829769219602,0.6235630681478244,0.19732458272207037,-0.09805139547909837,-0.7934048999826233,-0.13752525406000463,0.09838096453537046,0.08848964193238827,-0.02865595718668083,0.08373993197679845,0.022922043064181975,-0.5489437900280834,-0.6830856568603902,-0.2946571122309086,-0.028288506005557306,0.16846910752813138,0.010000062915115505,0.013157513792448247,0.8662645753807534,-0.036382767174451325,0.046145479230079736,0.08196450315347084,-0.7994588516370456,0.13535420829663397,0.1654468545605136,-0.00011475326570581239,0.01785832175602486,0.9635452192114601,-0.10417475638885178,0.1284930791304173,-0.6678736141262166,-0.14461454790695688,0.07166531533773314,0.4834054388135653,-0.5417933625352787,0.7447377462517313,0.07581562953939987,-0.14287315887825056,-0.3748528849448019,-0.028931977353084375,0.036370753434697006,-0.7547544845196094,-0.6107851151074714,0.06853026673035696,0.8192893419371007,-0.5564042115546524,-0.07855470340403231,-0.07688866229732057,0.294445550390377,-0.13040976872426108,-0.016584838476199112,-0.014285122251987439,-0.7065482345153271,-0.0030202594412625924,-0.03762707657819948,-0.6123675388207098,1.0510587360013601,0.2668773283732274,0.7740354377818968,-0.05709038064568502,-0.8420954837447865,-0.7326960945011779,-0.11490858390392382,0.05579215821741375,0.051259835549629165,0.053221572944374164,0.04266839128483081,-0.10322348146799498,0.6772479208551303,-0.672773063982403,-0.013605804353640616,0.07476034665867741,0.1102519228868205,0.8347360537294927,-0.20040950381023112,0.018967152224763948,0.661958640956989,-0.07803043790162083,0.6939998575477263,0.08628655636419902,0.00048385629296536644,-0.09575039931077677,0.0153822442916753,-0.6149631508110004,0.944630041242829,0.20212277331115988,-0.17448881147818834,-0.0621680465621189,0.003542870034476843,-0.07658755050128768,-0.06694481973638328,0.04881941125637188,-0.0074953874158891496,0.09678498084545661,-0.132534518425371,0.24887443620450597,-0.6376005599739676,-0.7740234900129802,0.6686450305032395,0.9452255093005223,0.507418908231696,-0.5577842776079039,0.3773374148488436,-0.1639810054077563,-0.16644019207695807,0.5580630482243122,0.16484312244265836,-0.14460030293469947,-0.015155325803439538,0.763161718932673,-0.04243444129904357,-0.11673494567415706,0.10505022529514729,-0.5839548613474698,-0.026780741832296805,0.03421261253709413,0.47069640283567526,-0.18705118592955305,0.00738123957124389,0.17960714200271718,0.49524923586826347,0.4174555495186403,-0.1668757311782286,-0.660320466187665,-0.7993308125711751,0.12848943647880018,0.46345888041634087,0.1904248355145471,-0.6654332038355829,-0.7939437933425436,-0.09561731657009483,0.0652746138800704,0.0002843611136175907,-0.002068570671259394,0.7074551765951665,-0.6606483896634198,-0.011686465815426879,-0.0022180690883858707,-0.013006355654510868,-0.7054302278203084,0.01604759473415824,0.08895967561309708,-0.06627908929469072,0.38051345077161586,0.49353209069701925,0.5624465346249711,0.5803167636106024,0.23347307312109583,0.04712682346828756,0.14399682565011393,0.3606985253127179,-0.821913647560167,-0.08530274030634713,0.2917351227958998,0.02517625816367818,0.30717604401875537,0.05525311782026792,-0.1397559748022942,-0.013710096890663243,0.035358353059528336,0.6407898165743702,0.07115975982400657,-0.03688474622013701,0.4315012741173704,-0.024873809859327977,-0.5961114307382527,0.09313697210863035,-0.0069111251631794905,-0.8244374998281695,-0.0508571332788398,0.9165031637484539,0.07401241420899667,-0.0244060304167911,0.2434002524630448,-0.5563443897333842,-0.12452157893087541,0.01889746614804121,-0.03203351682332566,0.13296397754085765,0.0847474803313793,0.01950780335698969,0.0758081946907252,0.12632359428517148,0.012346728260431374,0.17461127558714454,-0.0509946533716716,-0.02630709937357804,0.06262330672115964,-0.004724657074497253,-0.14842558751443805,-0.6737188444535019,-0.015068077231335521,0.2608581924648142,-0.7728885702068686,-0.047128165729481086,0.2356418674613731,0.20070861604335644,0.16635427003647052,-0.05011268038629044,-0.638083786757923,0.18250518303527652,-0.17129277263807063,-0.7025900385585258,-0.03755487114147746,-0.07387939613143922,0.1715943914319368,-0.06065418964794226,-0.1343923154540689,-0.03981678485258066,0.7491720285501107,-0.04459501261372445,0.04406303506567536,-0.02267409149050436,-0.0578633563115425,-0.5358748445188558,0.9810351153721135,0.6654848488272129,0.8271795955769095,0.6184845824841562,0.10476385024564445,0.10600528364249272,0.11433112458890662,-0.042411934331490826,-0.0012374079802803767,0.7079289847906995,-0.048735431748524884,-0.015311469168956423,0.191338717888129,0.10063244016305324,0.047238053160924144,-0.6002185041911233,0.6573761702412783,-0.012902426369913131,0.024195518417528462,-0.827653751100434,-0.1400879983253128,-0.040712055922607814,-0.0541918100462995,-0.7698809313560903,0.17681457433997355,-0.16575658659976314,0.152569826663603,0.4612639876786492,0.0608890971785934,0.013604017286231966,-0.07230381881475453,0.0036379892923253847,0.5910433095174046,0.7433090680253558,0.41110728534298036,-0.07019026502779446,-0.08372412457377407,0.16853237454922948,0.7725942915619958,-0.027604139753099735,0.02092363319863874,0.15601429162029912,0.12904966906646886,0.8687174472167443,0.15104543752410876,-0.034738527807012594,-0.052558725254439484,0.023047686666660232,-0.183487987893396,0.15055454954200986,0.06745664709127665,0.11151395093249902,-0.7316288723427383,0.1070853610028151,-0.003493757451657468,0.013494699354006125,0.10352016114568564,-0.4298725075634537,0.6777588330617357,-0.1540707269659137,0.10970038719011839,-0.0021918723982532985,-0.05490799119195887,-0.006390545425960223,0.15582650466711387,-0.5175307193543202,0.4545436625960966,0.9322779326282776,0.8364516966868163,0.1692331567124533,-0.557360944556228,0.6553261125840287,0.2773445681290463,0.09342890048601513,-0.1544635237067221,0.22495132669014598,-0.8654589191958446,-0.03849174248831504,0.08765656025290954,0.0018315119209810983,-0.0005169233145720843,-0.07197513491049942,-0.002984315917580026,-0.6544613556125305,0.005753040850121725,-0.7651468597750565,0.06450943082566045,0.757577023657672,-0.002656440510879645,0.8306481970552959,-0.010140295317672127,0.05858609020702244,0.06091125792705738,-0.6450077614907849,-0.07419520789906885,-0.0566577217079712,-0.5702990509399825,0.024946307784001493,0.04983587160716069,0.8410404096108594,0.011122927535490981,-0.030164903277410202,0.11503692388543275,0.01412755772912692,0.03988336553907486,0.10692334464782687,-0.0025234956375988194,-0.5578277852351072,0.13414505227316526,0.6313612542909594,0.20657080289205923,-0.7351126594399617,0.5738102603396312,-0.8464421872429202,0.05760346360582341,-0.4603427706046568,0.8328014538303736,0.013467373715526539,0.03259776293803293,0.0856873375228955,-0.041963690318940185,0.7033025782679035,0.09907961087983887,0.8445745474378857,0.08870747541985986,0.6224757895985766,0.9247113315159772,-0.11145326394613672,0.10955536827688556,0.34951443771692237,0.08079496452104233,0.14568676475671313,0.14967166834867163,-0.07620244506538722,-0.7342207046169479,0.23013980508318058,-0.194335159476265,0.10330594829942417,-0.7476629859355769,-0.10757048818231034,0.11595226146209427,0.10632585675072032,0.06562505805160063,0.9389492159753611,-0.6583126237481187,0.8405169082849091,0.12328063721139113,-0.7099330797831025,0.09171435696862278,0.14018026368879782,0.028317171595265464,-0.24343841788985662,0.18021390812583246,0.9046169873588163,0.09756257169283726,0.17898591719619417,0.06376757229133348,0.7132095558388892,-0.09915221618988503,-0.5859272060126764,-0.03526214468181379,-0.020483572105580942,0.04848063032128039,-0.07326999554638727,-0.6982465029581001,-0.7348419081285046,0.02314445440653437,0.6176401141195077,0.04338108914935689,0.11202430807776112,0.09095935409640396,-0.698319030441814,-0.38342621264332105,-0.8270980764516761,-0.003343023183637416,0.007370156587039487,0.1769925397752076,0.6270701909490499,-0.10043929800659965,0.9418953123870722,0.11187630381712865,0.12731133709694928,-0.7808394153883913,-0.05158308593656764,0.08706401768736051,-0.7126674446932674,0.6899129419663275,0.7048137675819919,-0.05336068443636009,-0.6051014638259016,0.030296362853810113,-0.11014822919809085,0.16108208078316855,0.10111060007404316,-0.018622719844816945,0.5487707665922201,-0.033594569645615656,0.0943979958270453,0.03621765055286995,0.06101547750158327,-0.6874345970842496,0.640942926086049,-0.00773698421435935,0.5589365076498255,-0.08801632046699888,0.058122198976620736,-0.03466067581541492,0.7602441834184749,0.07587157468824085,0.04175191063008089,0.1324971865659842,-0.13619001050694143,0.8531402415884559,-0.009517189125730467,0.044155071000032756,0.5210000223239954,-0.24872488613847968,0.996181286898885,0.1885740675345327,0.012918244454881088,0.03822177544554019,-0.10963924559808284,-0.6090322125431383,0.04562673134896922,0.027947998551677237,0.5709503096014429,0.00043541706627502205,0.0030794458414634064,0.04927501733049656,-0.15036808508720798,0.016339322273733484,0.738382270397598,-0.5487085548420225,0.7039661857504245,-0.0955138303965879,0.5084131571213506,0.7131655439412492,0.7183149112126781,-0.034292561354401244,-0.7196863165601457,-0.7962421837870949,0.364217477677489,0.5796356633332685,0.061556817924030595,-0.14723189842817067,0.05396630078335929,-0.04142161556651211,0.8108653036898166,0.020465998653926926,-0.9154730907438747,-0.5694145265988684,0.11123610372735694,0.17478627999691954,0.08708412805822814,-0.06723615533479205,-0.011539848886292345,-0.835604839846946,0.10696050496327116,0.23052863758750014,-0.571207085750302,0.0017902258939742157,0.8976047562012341,0.009428647495885638,-0.7405479237473558,0.26989432712012884,0.9044495555244584,0.05767487584680686,0.28510512350349876,-0.13157204778085949,0.8615023618486098,0.3030422429954966,0.057209106459680865,-0.07022080513976112,0.6523359402007567,0.1997727697856197,-0.043945592546099324,-0.02011459540239138,0.643805458329493,0.7396393437265156,-0.07711949578721913,-0.18131912747448858,-0.08113106611459472,-0.7144431030588205,-0.12148637888530972,0.1489399215713781,-0.06658758316979076,0.5826323775490545,-0.10600847793443958,0.1655212890050623,0.20394488891777293,0.12017751179472962,0.8486607730248872,0.11095443778995143,-0.0435953515507324,-0.7978078726313543,0.030222732336597818,-0.09337561550039473,-0.04631581012902512,0.0940235433017786,-0.6482415948379598,-0.6142980379221775,0.9029020571180203,-0.03715318245841804,0.13746543061687844,0.703744625676145,-0.09040167168853681,-0.6864412670896587,-0.5425284047183726,-0.6415017328013547,-0.023400450093842735,0.1091014145592422,0.04132585811258923,-0.11700018349209804,0.6502289804153093,-0.720834315187109,0.029869748659440584,-0.03316048601549288,-0.0676241506238467,-0.11370507055811328,0.19598523776528956,-0.14326601194131358,-0.06044527144339728,0.0892226943339173,0.049401932820317004,0.12171534358511618,-0.7753392172997323,-0.03575621905931746,0.7078602931929785,0.037640795853753545,-0.15996147935833224,-0.21958993892837478,-0.000947535695754285,0.030455492708147458,0.14402270814177132,-0.7375658479287972,-0.037169792367894194,0.1998245791104702,0.09186210793728435,-0.7631719557826555,-0.8305226063356613,0.18107260549960436,0.035776783470217,0.7800247193324569,1.0054667377366775,0.14315521362862535,-0.20473811256997484,-0.0008242140896471475,-0.00432250095371796,-0.6587587949967245,-0.6528105096711273,0.30827569970103624,0.6513811111400033,0.7514506947557327,-0.7877952033806844,0.034285281343278136,0.0770069213724821,0.04238887813185517,-0.06360761817165096,0.054066228989406426,0.04976463474650719,-0.015824234994876136,-0.0873808491785538,-0.625993560274119,0.01905116479987053,-0.014550807243522458,0.0669271144136069,0.19186921510140756,0.030965835391608514,-0.136211959858242,0.873008176719674,-0.7704059258724053,0.6072704061101085,-0.04989147453681996,0.05032441946470092,0.06946728732723564,-0.863170920818874,-0.14000741531486294,0.009636308445279351,0.9200403546471356,0.29808677575838893,0.1352076313718184,-0.02790750761762938,0.761582877543241,-0.07772353889793092,0.10468552585809351,0.16050890335433307,0.3537138647304611,-0.06525732583460571,-0.7116416055956698,0.10170656866240364,0.12141256870018313,0.00019980609199141637,-0.09423350139192091,-0.011527672843755471,-0.06569920027220193,0.09294240888894452,-0.06326182591985087,0.191777344194647,0.10252929888596349,0.1055494262744329,-0.5607725956791444,-0.5729895052805422,0.6168017743259857,0.14306988994518488,0.05764341378982824,0.022714321588422747,0.12800208939149157,-0.7576054681498348,0.10391607701416974,-0.2066524799496693,0.5366643579034586,0.06881250053868798,-0.1295989230906946,0.08045198608958712,-0.7521354313473331,0.7174875771685495,0.11413649689781999,-0.7864557522762717,-0.09461783766210657,0.7082884808257255,0.16871007121996903,-0.24447498033964757,0.6804985756291108,-0.8218226361394526,-0.08727002185496863,0.11787288638379669,-0.008790531548938019,-0.6433145648513122,0.4989230647393808,0.19265119961556046,0.6138452550973565,0.11096341137984145,-0.3056653169203984,0.02902166764981782,-0.10496551732667735,-0.7748139772748133,0.006600566759954866,-0.7280509994262716],\"type\":\"scatter3d\"},{\"hovertemplate\":\"color=Tier 3<br>x=%{x}<br>y=%{y}<br>z=%{z}<extra></extra>\",\"legendgroup\":\"Tier 3\",\"marker\":{\"color\":\"#DC3912\",\"symbol\":\"circle\"},\"mode\":\"markers\",\"name\":\"Tier 3\",\"scene\":\"scene\",\"showlegend\":true,\"x\":[0.7121449244488371,-0.38936426664150403,-0.8226587542317032,-0.0646202683480918,-1.0140239411193928,-0.7998792739896466,-1.3120506022554566,-0.6549559839413635,-1.0467102583024481,-0.8215862839762655,-0.9680833516625497,-0.5673385659390229,-1.0920833610285976,-1.0829128474768561,-0.9443232602067428,-0.7382021247905359,-0.9386750870722648,-0.9339278949745766,-0.8094946380095166,-0.9846095283671497,-0.7269444806259276,-1.02921832236896,-0.4261167874887602,-0.3687937166309985,-0.921541568559479,-0.8555317249869051,-0.25324925492239725,-0.7078515138145546,-0.7915306333517694,-0.017466440353844745,-0.949571088318291,-1.2082686490143852,-0.924251453217442,-1.057054473921802,-0.14572425756704402,-1.0064893102703985,-1.46254097305626,-0.941496047740101,0.8220014733557661,-0.8860379275653391,-0.013720286474083871,-1.047490261967243,-1.0961286470873177,-1.2412836751043577,-0.6481833948142917,-1.0841249490192886,0.013227936876127267,-1.155287539759214,-0.7346098254743147,-1.1105833585500628,-0.5654684423292279,-1.1849126583532932,-0.6590158404965282,-0.9072457033628161,-0.8616216899363378,-0.9690874743224035,-0.6040921713026243,-1.0647735695004406,0.19935853680985988,-0.9406529084329758,-1.063758253832756,-0.980549305842287,-0.7509338046002733,0.14963320555199777,-0.6903782277720986,-1.1087119971948196,-0.945286822644864,-0.951721528720616,0.1693892317285549,-0.5647994444195353,-1.1089959324658525,0.22632322349736042,-0.9286787983359053,-0.28526873679658055,-0.9817152014771003,-1.2403602867596446,-1.3345949860786006,-1.127771170375209,-1.1537701828950189,-0.9398146297468092,-0.785666881763827,-0.23829715181701147,-0.6539140910362669,-0.48858481001392634,-1.0334456930343827,-0.3785264204999259,-0.9669555379025903,-0.5475355415240964,-0.8127573212798005,-0.00263972572936123,-1.0792873737485649,-1.088442963554694,-0.9983194867452295,0.32226744560345166,-1.126091153194894,-0.23765375791323176,-0.8044543103791306,-0.8428670843156608,-1.0745167730919662,-0.8818164919050829,0.5086226142545105,-1.1243774126527835,-0.9919685508931795,-0.9606088389012496,-0.4523799119093626,-0.9412008215250203,-0.9334993591548454,-1.2200935895780345,-0.9341806012007595,-0.8102644227306485,-0.5098517471300423,-0.20763560609443124,0.7402543780365707,-0.6783959373931345,-1.1361987050508586,0.2652134058049069,-0.9133819254369856,-0.9792463703271335,-0.9530573336301044,-0.031443567405176495,-0.6506177243015124,0.2691758305905751,-0.43860580308938363,-0.48950163658736756,-0.6636584350155728,-1.0502719194624346,-0.9887846683936404,-0.8602299107266218,-1.20184168213411,-1.0059594349498053,-1.1075622242237584,-0.9549869018335002,-0.6758818462463105,-0.4842881181293721,-1.2243043365362793,-1.0639973866296308,-1.2501309101435418,-0.2466460253590148,-1.0374567808571635,0.2614100790736361,0.8250577592981868,-0.8760342248319477,0.5257016645607793,-1.3685503407104824,-1.1474352674727442,-0.965697935377687,-0.9480428750838091,-0.14273951873158489,-0.794862394181518,-1.0256436574120822,-0.9351081422197544,-1.285679324298588,-0.8756712340529947,-1.1195079693814798,-0.07785871366182989,-0.9658996311802813,-1.1156315488862532,-1.0640999650369074,-1.215300938364652,-0.7721838650918901,-1.1641980189338403,-1.0235456951158783,-0.25289114479446795,-0.553730493633316,-0.3594532404693862,-1.0471560809027407,-1.0272149027985673,-0.8898378210744288,-0.4718947957421458,-0.14449586525051575,-1.0941470055385085,-0.35070335176235107,-0.5033568624563343,-1.067866986296795,-1.032475597197018,-0.8765155207386082,-1.3352425493375697,0.785779919630252,-1.0189231181360745,-1.1556096635942517,-0.10051395788576649,-1.2118262271599944,-0.9108803488941478,-1.0378283231909773,0.8569739923843654,-1.095751976020283,-0.1414898294074627,-0.8702979265499472,-0.9058286466181514,-0.13564677659252605,-0.8645320422692658,-1.177766122082757,-0.974665890967042,-0.8186708785230101,0.19898103696122393,-0.3058234492033635,-0.9040459766858324,-0.1990684360497178,-0.8040999889224126,-0.8630114661132814,-1.0907462649752644,-1.0322448716660602,-1.167420889792845,-1.1233480381299978,-0.0009029170186271886,-0.8216361758016564,-0.8881255804889727,0.7832324877874051,-1.0155298034939721,-1.0793944997408602,-1.0750136749965207,-1.2334124747877775,-0.7384822735900418,-1.033007391447826,-0.8870282105759092,-0.3334029816607276,-0.7669931303140987,-0.24295650256020937,-0.7018964955119937,-0.814933585603538,-0.9895521332633153,-0.5421309066960038,-0.7259696678625245,-0.8837554428800877,-0.7922072462674047,-0.8175390922295072,-0.9661600427034039,-0.9873866120238531,-1.124829765194622,-1.3220544030262564,-0.36614758042762235,-0.9783897296531308,-1.16678734351755,-0.9059337641343607,0.39219195270817614,-0.775037227347542,-0.9906092987392039,-0.8937402494599336,0.10344066156564774,-0.6680641714620793,-0.6551722299763219],\"y\":[-0.4421167092703738,-0.4414398582713801,0.3559454420170794,-0.05451588210122119,0.4445471282227913,0.48546551186749753,-0.16318353126269275,0.08039988199339113,-0.3865904136718882,-0.41220449254082747,0.47359431715782074,-0.1358593028664647,0.42245704222529123,0.22354275288132885,0.6007933079637963,0.5782624739455038,0.008543323827117031,0.1819137615834763,0.5558369835065698,0.3616467227329868,0.4081823842322924,0.3324286957608351,-0.6757282876850514,-0.22033053089325316,0.4978777486642156,0.4166966926780197,-0.08786853465585644,0.40735171786799823,0.45259806168300387,-0.16407249476435523,0.5510857207354963,0.22469655822477339,0.2720251030228345,0.3305071173862727,-0.4390606273319778,0.34223690334642787,0.21010990286088502,-0.08015375945702581,-0.15292671046771297,0.05747939332098371,-0.8914305698756385,0.19491694898756387,0.16166001060432444,-0.24327216564292894,0.41182723054799236,-0.24483762230891765,-0.4304834273012731,-0.04964254200424505,-0.22819889849350455,0.06868584648457836,-0.23382631911587218,-0.07138083489619057,0.4388035275574629,0.529690889347343,0.49667123450439216,-0.6844992040642482,-0.2779966848992635,0.5366253582826762,-0.22712663328570729,0.3499040817688757,-0.13095392127233074,0.35223932873100033,0.46566449528375325,-0.2061174328134884,0.3393011876956298,0.17903827458314606,0.3816248537791479,0.5106599515719537,-0.6263183128530935,0.0829648829865224,0.08466437950906174,-0.3691343581574774,-0.054062473413318796,-0.217535990597666,0.09424852403139787,0.19902679117832245,-0.1220887768438045,-0.04013639931807207,-0.16475974710762403,0.19877417263720754,-0.18816339255141917,-1.110136954989796,0.49584371716232867,-0.1516772781168636,0.32411313854007107,-1.1614653610229344,0.5823826064652948,-0.7191200118999153,-0.2342339064587337,-0.5027527280984879,0.4653305046001419,0.14368158107283566,0.27359316290113334,-0.640245531371321,0.41713755312845874,-1.212867107119889,0.5436583787344328,-0.19616760484308438,0.26955834463393347,0.4116728753625352,-0.3618920482037547,0.0914483926585249,0.2985984828764171,0.3833720690938963,-0.07772247859998671,0.5053609761291318,0.009663572356619191,0.24432519196954597,0.47213933791562196,0.5523585619607938,0.179813636582744,-0.6073059504247569,-0.16018711038983627,-0.07771913624618101,-0.0409954708833139,-0.43382267947161773,-0.17919202975468257,0.21888568440215916,0.1377818323406364,-0.1048815217059724,-0.3697174503559846,-0.6394277089504856,-0.5984980188256236,-0.9141776325824574,-0.13422546017259598,-0.17745881605952352,0.22224690925593657,0.08628255961763626,-0.1528306892598214,0.3124606321857089,0.2673471486660984,-0.29538063248666585,0.4200309220727681,0.08131176615960276,0.00795211617623704,0.24103188131986153,0.23197999967925942,-0.9678080589471695,-0.576623957734196,-0.3384339177094522,-0.6042013574437789,0.3023693421336337,-0.3010167043609686,-0.17703204302973127,0.31856852716021494,0.06785897923815361,0.2960400072992173,-0.7424269280296024,0.4815562101788279,-0.012150712659651283,-0.04198696795408631,0.31242054019340776,0.45837497142082645,-0.3172660216143183,-0.8119700612061524,0.07070167675018793,-0.05113010038406087,-0.2544073021704494,0.24870041029438766,0.02947093616010288,0.21254019557040565,0.28924626857541447,0.24736026365780514,-0.9633280439113289,-0.31379573313520054,0.5418147260660297,0.47597624358052604,0.10984325579534573,0.3327976030553702,-0.18545753702183748,-0.3140208710252096,-0.6433850372285795,-0.5307038320488703,0.2190942028307096,0.23789039865492323,0.22675738392851413,0.17058028535671382,-0.260324163381086,0.4628491633620059,0.2532550585828568,-0.5985887758922028,0.04068751207237545,0.4406747925765217,0.5518583807167585,-0.27889296976707834,-0.1827605298008187,-0.8167931753392417,0.5996053060224737,-0.4605922539702526,-0.8394373126873211,-0.3072614409315204,0.2881698238712131,-0.4135318466900375,0.41796494191121525,-0.1281358558214665,-0.5682482807934132,0.1030671069770577,-0.33926908792527927,0.3444543534844279,-0.5439473167608636,0.323214058626631,-0.061927963524183664,-0.7340142313446874,0.29164976848555485,-0.8249202605279782,-0.13198202794725272,-0.1538940004160133,-0.8140869183336615,-0.17243319575943117,0.15069765663697168,-0.0808403298899746,-0.24264435372273452,-0.40919158387810195,0.1822493042417087,0.007801467297121724,-0.06898358911427985,0.049888066761665184,-0.6476905329571352,0.5605952639660107,0.4947311636289617,-0.1095333946102167,0.17832948174598304,0.14916786974957336,-0.2612157585624885,0.48992118264844564,-0.3882574592861327,-0.42712995043611557,0.5033132554208519,0.2693975711150146,0.26412708477323554,-0.4704530334458561,0.5376993014109298,0.38675102818275436,0.6682548401412298,-0.02876434965956983,0.4130092026935788,0.4739911075235183,-0.28206975540488954,-0.59096009484909,0.5176085504913512,-0.4711432356390531],\"z\":[-0.02071182034944039,0.5790936162910322,0.08646255912851723,0.038867525679531535,-0.006544931355496268,-0.008172604570867171,-0.8055016953096378,0.03332066717419462,0.9223634219310684,-0.3647339210417363,-0.04385086813634307,0.1522364461920764,-0.022861983016148387,0.053550095257993056,0.09857259453466544,0.16321261660493266,0.5205132508744614,0.17299297208322204,0.0029099694996081046,0.014166816993181843,0.03821008804627979,0.12479470237567912,-0.5557477813425136,0.32949360832451385,-0.047262624140172155,0.09029726481950726,0.14173831706047352,-0.09144943233469922,0.20246848054841693,-0.11629605471569403,-0.06646151126133668,-0.11837806957548078,0.1577396884344991,0.001987337181866431,-0.6966666762419137,0.09335343658503037,-0.05820966956800525,0.706016593477596,0.4926656779039358,0.00142381159229661,-0.6665377229519903,0.022199408978675523,0.06338751364529875,-0.554086995049046,0.2007136290498393,-0.5255977882704845,-0.019616035275440136,-0.7377169439443629,-0.74225346430929,0.3250841405086481,-0.7373738470023938,-0.8742148933931785,0.11177392844958396,0.17888115248407704,-0.02231835254627699,-0.04056489331109259,-0.6242378347725648,-0.09937188376790031,0.0361526902892466,0.09920040398239018,0.596341029528431,-0.09049201408594361,0.05135549841401063,-0.04371373986639542,0.17847822625610799,-0.062530324208178,0.2989277171425825,-0.023285341537172825,0.7082058619767648,0.018571409567376705,0.3101965805988581,-0.4933716596611734,0.7456141916606938,0.8123685431089477,0.07788787239793216,-0.085864123522587,-0.7236001731930121,-0.708346915817768,0.6764734063021542,0.09733092949451977,-0.7561034971642062,0.9553262886210956,0.21272626651612633,0.2781019636592246,-0.15118421811775176,0.47076618376630014,0.055296290518315354,0.3148992631346785,0.7456312572795294,-0.4717534012036572,-0.03791198154330353,0.18193784398942167,0.11054683687612801,-0.6824101413210931,0.10526506572948471,0.2083393204019253,0.14919707659376366,0.5618528469785733,0.02174661128671952,0.04586427843900193,-0.029161579706407387,0.3762677629909388,0.10554832253748395,0.09221694851802262,-0.06241595843357516,-0.004999189390686804,0.6462331126636842,0.08198166320465418,0.06844156269528943,0.10716684595756754,0.09947955893897092,-0.3498301964517498,-0.03782678511234907,0.43743954842752086,-0.7008652293717764,0.03747330041589291,0.8334784188633774,0.0810665127849113,0.3604983257893045,0.03522338665859939,0.6116889009346718,0.16508114948797603,-0.6496546965494084,0.01335436975542943,1.050036055940434,0.6460297625856622,0.07676196492473908,0.018488789360008,-0.8069651975090146,0.2265924173379042,-0.11355994517524284,0.953506979560222,0.08246271585427133,0.1938293826194092,0.2996614954480234,0.11971991562443672,-0.11692107544173538,0.014670816354721153,0.5510990865724548,-0.3261568242414889,-0.8647240416417549,-0.00015103290095674316,0.011153873140803957,-0.6177510823510258,-0.00984537033757812,0.5633968670837171,-0.029919650311276438,0.8469097469686512,0.11458570704488835,-0.7860595765770786,-0.8188080312923806,-0.18272572812384197,0.10250279167623341,-0.5420545283455227,0.21926225582454972,0.5514205347962525,-0.6949900070126838,0.8354859058770557,-0.13549776342105677,0.3444509246715348,0.11257535287895562,-0.055824062097132185,-0.07343218447175756,-0.06100577424837044,0.853291794039158,0.005494718789522775,-0.041121988724773725,0.4971756276058021,0.13409531591945203,-0.13197318884223075,-0.5090720009586159,0.7833099926192347,0.8871552879190805,0.17987711402802586,0.03912459677268354,-0.008214424667352447,0.10981234891449594,0.012518574429235353,-0.028172143507094516,-0.18910634118346023,0.4952599591846352,-0.7488825433174832,-0.04713899212345688,-0.046772436456779316,-0.03814466476579185,-0.5396904460673755,0.739813040574516,0.072526392205083,0.1832832812958959,0.5632284925436188,-0.7467944051467458,0.04023052928076785,-0.1884001966297277,0.043839064132376135,-0.012291630370556965,0.786456388306121,0.16677388617718564,0.021787814624402567,0.1964881605315936,0.9108970020309077,0.02650760721654659,0.6677479831439445,0.18925058402949824,0.007561480961636614,0.4940475839138964,0.7116074082129262,-0.18847951837527752,0.7059393310796556,-0.7012860206730709,-0.8119793447352721,0.5976685002592842,-0.646799633653641,0.7637271327887035,0.09266569197119871,0.41029468702135613,-0.031225975358021033,0.6962623955416579,0.9124416529683165,-0.004915436284662549,-0.02701575039267169,-0.749003677802029,0.00857848634052579,0.38226460887338376,-0.8749477165720073,-0.008168190808887662,0.8924606190245037,-0.528375345928703,-0.016595224516967898,-0.12409849424354966,-0.0009656965994317048,0.6625607236332501,0.04183809480091761,0.027559385312064314,0.04879823728987743,-0.41330869014761573,0.049159503553258335,0.00236229331910538,-0.8681816046651752,0.0015774231868811476,0.12778326594853356,-0.7737721412488653],\"type\":\"scatter3d\"},{\"hovertemplate\":\"color=Tier 1<br>x=%{x}<br>y=%{y}<br>z=%{z}<extra></extra>\",\"legendgroup\":\"Tier 1\",\"marker\":{\"color\":\"#FF9900\",\"symbol\":\"circle\"},\"mode\":\"markers\",\"name\":\"Tier 1\",\"scene\":\"scene\",\"showlegend\":true,\"x\":[0.7348089215304647,1.183074724096131,1.0325126238808209,1.0481360134591042,0.5038015748422575,0.807912772336983,0.5414590496591181,1.0834040018188753,0.9094151716548137,1.1018674822021557,1.7735770120920842,1.3312631286361976,1.450641468308236,2.2417917640266976,1.9611697697101722,1.275928010665421,1.5804061257762159,1.3733607402228938,0.876122368416895,2.150161174487795,2.0014372487768797,0.5016464277620021,1.0580970836984205,0.4016043399837249,0.6052010161126314,1.8717235289979295,1.540846150972562,0.5690559792220676,1.3222456117139967,1.2824984513914783,0.3738024670045216,1.3219133685704356,1.688785360075077,1.5800043926417764,1.1606548413469175,0.9084770509990505,1.7082871567587625,1.3426289288296702,1.6386144480631477,2.1005821229648234,1.3471274789423813,2.0683291469245124,1.5798488145557326,0.9610878762074705,1.5924561913810367,1.6431964922161413,1.093490820047436,0.5620699518666978,1.458666374981136,1.1795627575401222,0.29385088969247697,0.48949473712991276,1.26802849120081,1.2347429968924157,1.6017356186124752,1.5178206071132225,1.9940745635543422,0.43077293398267386,1.026923052908376,1.5934919788791495,1.5725940807510213,1.1352730083729308,0.5852321926069123,0.8120456954249229,0.6725087838927357,1.2725991233285066,0.2895940085055337,1.3229781657531012,1.6839851328999949,2.3656119332546544,1.113514279382808,0.5104109854066315,1.753804742606117,1.0808984808782802,1.2837936036244386,1.5778813774580986,1.1683259030370072,0.670540639271427,1.1857506944481977,1.3445899464462117,0.1930543670455485,-0.035000955410650444,0.675735213199419,1.477240031541032,0.34222175606826916,0.6748439917405167,1.1757564325256846,1.958786474466335,0.9219704313352319,1.1305738746805127],\"y\":[0.43241367550725657,0.6677710569447394,-0.2662653569644834,-0.18020999847528693,0.13691000345239265,0.10951271178537973,-0.2123016982896018,0.45510950916554355,1.3858760939929378,0.44377054751417877,0.8786880899524789,-0.0438320216455025,-0.021476207546485965,0.8578324266056152,1.1721962633537335,0.012516448392798953,-0.6474978554875009,0.9036163990473616,0.6533806084047779,1.0642907257264358,0.5757433829843857,-0.4149893383136956,1.4825218650619187,0.3650490579457637,0.4193905838880263,0.37800337088384517,0.4899317748475606,0.11503833476748018,0.8370424963224096,0.25366416351180376,1.4772033284350008,0.447255084648934,0.16549778095140094,-0.21525853112467083,1.1696767919782136,0.23994032799100423,1.4920881049001522,0.19303493851506734,1.1722369517927964,0.8943754386578967,0.8653968518461563,0.9220828364435595,-0.1761420537157933,1.6251386578498597,1.0570751911946679,0.056305487567341564,-0.15693422038429938,-0.07915734502946063,0.28971183875005974,0.39174034273609504,0.5316778460661128,0.4193004859556938,0.13881976146607308,0.1669209234031072,0.21330760841425195,0.05147927336260401,0.2261967233525702,0.6064115580050858,-0.06936083380488707,1.0163263369153805,0.6927226020189782,0.026233834880399667,0.51428052200773,0.04362281695237595,0.38846938878099846,0.3833174221465385,0.7357503024763776,-0.06268334947426565,0.7609236274745456,0.7896341439793497,-0.0944766685179725,0.010373872822559731,0.024412966846025015,0.41713707614896683,0.25548818626032527,0.24825378543918986,0.5954032538611518,0.42474093546404357,-0.506717951243572,0.7956138887751131,0.22878528086257918,-0.4759313862809626,1.4367510743642047,-0.2332501154538303,0.00954662082202707,-0.43551595457134135,-0.6255736998455946,1.0125078277770954,-0.012308755115304505,0.1629511287796428],\"z\":[0.17182565829830215,-0.6091799168689097,0.00978920350327488,-0.8131450701617833,-0.14072188383138673,0.06284145154370763,0.6966451906108954,0.0529386958465043,0.04083520832918615,0.7680563323923578,-0.579902184188424,-0.10834536362703305,-0.13851899294895245,-0.6487481954078393,-0.11309263955109097,0.023115092947681725,0.7707865598617342,0.02188735874392435,-0.38425623956254573,0.06314411831430734,0.5257209565171597,-0.7229861421821975,0.14597649363460702,0.22759459578610158,0.10553746798189895,-0.07029176584174156,-0.27016703868951963,0.13900234425932875,0.0762098953880272,-0.06420017831411552,0.049238790191175344,-0.01686487217708245,-0.002843218279530933,-0.2706723974617749,-0.3207357751623137,0.002409940982049489,-0.08698926893197374,-0.009413370011845862,0.024408662731999584,-0.180155609203881,-0.07578212940997293,-0.18393869599601906,-0.0949448623315344,0.10980092582917521,-0.03516700090571814,-0.09698330815506212,0.09952155713495846,0.003709211204562761,-0.07233530296502402,-0.10111583778026968,0.19151404516148687,0.13411855585468452,-0.08358990348011228,0.13799776544681205,-0.11183096282557375,0.6361705127851764,0.6741453480346166,0.19680345140128175,-0.021521882853327234,-0.07593424076888816,-0.744368912124827,-0.04103525712614567,0.1465659805886503,0.0010702102799819964,0.09603413397204615,-0.13023549745385385,0.1879458020821535,-0.011905464926609668,-0.11586051565717055,-0.17269657497012597,-0.11310730067460148,0.06006699543103956,-0.12798150328941865,0.2237112911505308,-0.09107808792530363,-0.10201655231987403,0.5578976329560977,0.1018915438122657,0.07776773470299723,0.04441946645381586,0.050765788450128975,-0.7121942211069023,0.13822901552247635,0.11755367075566756,0.8101616312474704,-0.6757686161342581,-0.762356349941975,-0.0004450551474237177,-0.08568082647786329,-0.06864340209125142],\"type\":\"scatter3d\"},{\"hovertemplate\":\"color=Tier 4<br>x=%{x}<br>y=%{y}<br>z=%{z}<extra></extra>\",\"legendgroup\":\"Tier 4\",\"marker\":{\"color\":\"#109618\",\"symbol\":\"circle\"},\"mode\":\"markers\",\"name\":\"Tier 4\",\"scene\":\"scene\",\"showlegend\":true,\"x\":[-1.118155554838655,-1.3121245432969273,-1.668126332837431,-1.2218576742221159,-1.4093002727409056,-1.5340474307404222,-1.7266842295961802,-1.3714118131075685,-1.3881054534822308,-1.3731510388184327,-1.4182314858260898,-1.2861376576765537,-1.4420061459898816,-0.6398632211424814,-1.5500426361400068,-1.406233589685996,-1.2420199761527746,-1.3931190160413003,-1.2787304760629508,-1.2151556849811036,-1.1133554717091847,-1.130943209629631,-1.4420417064344249,-1.6927082999102694,-1.4539464651286211,-0.8047122236822962,-1.5952987183288099,-0.5902717361395691,-1.3946461330097577,-1.3262169272511792,-1.4372148382997492,-1.0779881068848711,-0.48569286932887046,-1.5229083363026998,-1.2266350186455182,-0.6140115060063441,-1.6628740257068295,-1.4229526731474151,-0.8825854379890454,-1.3998809370191898,-1.3995971849561208,-1.361311657505995,-0.712183497198846,0.167582145453526,-0.7241972847502601,-0.3847964231526652,-1.1871880759516442,-1.5667487551198072,-0.6782423229060929,-1.602968542642206,-1.3656148575021572,-1.154452702280275,-1.4257479201841097,-1.294182848551958,-0.13963845644808037,-0.28870609276915166,-1.328926484729585,-1.2732889201445474,-1.428701937268154,-0.07149790314787037,-1.0119075163752869,-1.5146319675974074,-1.4298096442023138,-0.5501216178442778,-1.3271122212324569,-0.03523097446013006,-1.2489281141065016,-1.4762778707460011,-0.9866295950382958,-1.164530082732576,-1.4052044777157922,-0.4645493862581437,-1.5300398647245328,-1.1065094211308106,-1.500868567683394,-1.5503171183387254,-1.4020817427124574,-1.3550870439524167,-1.5346164119181454],\"y\":[0.275579872138146,0.06595415584389536,-0.1357812464690346,-0.4346368911848433,-0.12955674113233662,0.21877483053090885,-0.17919617122229917,-0.2573577084092687,-0.16787185558017892,-0.6299123354519919,-0.02396291160429018,-0.1538313804056689,-0.17382529874571864,-0.16685011342639167,-0.1966989366649676,0.29297277745565004,0.035774303426102036,0.15773782417923463,-0.47925996557556566,-0.20703621185415047,0.3040951242608278,0.2743299494180605,-0.28840170736523346,-0.25464773009305025,-0.09315578971008451,-0.23152033209630699,-0.1893440577074928,-0.7664598225711459,-0.24400584917450394,-0.11063081755293021,-0.3856962021554995,0.4567720786127504,0.1020367422194157,0.2860326985402671,0.11987889082873743,-0.34966222341226844,0.18085641264135693,0.3410851837300887,-0.07147974322629509,-0.27094342025449514,0.2761611763297462,0.044060306482789593,-0.48902342763164947,-0.32749578102706306,-0.554336327731189,-0.4039896979678218,0.17381359915112213,0.2461167545618273,-0.002144576489966344,-0.1211210489287778,-0.41259883958291904,0.24120039122371653,-0.17029309913769142,0.1881243661875465,-0.8550633888415196,-0.8164575877496536,-0.036015962997468356,0.4405884077396992,0.2606555106147607,-0.3724333213754255,-0.5753486921538464,-0.5850083582290778,-0.117944702514409,-0.376965163903012,-0.07959303853728,-0.16194549748674147,-0.26523876824956794,0.24005234999292574,-0.45700373725005194,0.21494426592033472,-0.15654379938699048,-0.2875005855469056,-0.2879162787299934,0.22329986498647866,0.06456606456737365,-0.12209222165401011,0.17439250285734714,-0.24314266889277725,-0.15687151048094156],\"z\":[0.1276747045398584,-0.8784697651880602,-0.7572106330246307,-0.27568037322315625,0.33168773300424537,-0.02524268692196006,-0.8848149140143545,-0.751675712399494,-0.6602577794526616,-0.1612267100990859,-0.7929574945178647,-0.8016741509848481,-0.7992708442384138,0.23407581736063665,-0.9379845125388384,-0.05553222410263608,0.17300836657518573,0.06563713031202872,-0.4535001603650297,0.6467528295450065,-0.12997776036019104,-0.1387424027118742,-0.6731207477860733,-0.6360836837775332,0.10993628024403501,-0.88776066055456,-0.785475186476613,0.896184929278936,-0.6826677829109659,-0.7930635922405765,-0.7005304624475261,-0.08429752356133523,0.043126073245473746,-0.13480336052956782,-0.8132598158977588,-0.5918388731370946,-0.15299974083394763,0.019922434872698198,0.3345807088681118,-0.6551032734093397,-0.11135427145624283,-0.7312278008192926,0.5166394480806015,-0.03170043246885877,-0.7041919411656685,0.009420729842303664,-0.06143387815092554,-0.17187397416301378,-0.19316131107650097,-0.8788077811816568,-0.8766667383952483,0.14963721864311935,-0.8250263486691032,-0.0968416287461675,0.5457526635636133,-0.6136733638408446,-0.9016573065179885,0.0957519831228484,-0.05737571835029404,-0.7397751776850778,-0.21807315686089357,-0.26332085870380706,-0.7724169223316402,-0.04129508648745024,-0.8431950347357331,-0.022241683303713775,-0.5128268758821338,-0.07886937359227769,-0.6612721145382481,0.049981328281593164,-0.8361050653143366,-0.07359365650671645,-0.72725980622167,-0.01606565924123589,0.013048277482357833,-0.7066679071469388,0.12531376158141364,-0.8129741655676256,-0.8580768336232808],\"type\":\"scatter3d\"},{\"hovertemplate\":\"color=Tier 5<br>x=%{x}<br>y=%{y}<br>z=%{z}<extra></extra>\",\"legendgroup\":\"Tier 5\",\"marker\":{\"color\":\"#990099\",\"symbol\":\"circle\"},\"mode\":\"markers\",\"name\":\"Tier 5\",\"scene\":\"scene\",\"showlegend\":true,\"x\":[-1.2105863084831612,-1.5775929044602965,-1.5885268504073229,-1.3163217609494098,-1.6819304300174507,-1.514951036570437],\"y\":[-0.5762110869965643,-0.37663360881732794,-0.24498301251635798,-0.5252689175647637,-0.0932490263773202,-0.7761542037294025],\"z\":[-0.5951194210097491,-0.6397999579546314,-0.9288988852935041,-0.47955774840364684,-0.854404102027294,-0.337210391082089],\"type\":\"scatter3d\"}],                        {\"template\":{\"data\":{\"bar\":[{\"error_x\":{\"color\":\"#2a3f5f\"},\"error_y\":{\"color\":\"#2a3f5f\"},\"marker\":{\"line\":{\"color\":\"#E5ECF6\",\"width\":0.5},\"pattern\":{\"fillmode\":\"overlay\",\"size\":10,\"solidity\":0.2}},\"type\":\"bar\"}],\"barpolar\":[{\"marker\":{\"line\":{\"color\":\"#E5ECF6\",\"width\":0.5},\"pattern\":{\"fillmode\":\"overlay\",\"size\":10,\"solidity\":0.2}},\"type\":\"barpolar\"}],\"carpet\":[{\"aaxis\":{\"endlinecolor\":\"#2a3f5f\",\"gridcolor\":\"white\",\"linecolor\":\"white\",\"minorgridcolor\":\"white\",\"startlinecolor\":\"#2a3f5f\"},\"baxis\":{\"endlinecolor\":\"#2a3f5f\",\"gridcolor\":\"white\",\"linecolor\":\"white\",\"minorgridcolor\":\"white\",\"startlinecolor\":\"#2a3f5f\"},\"type\":\"carpet\"}],\"choropleth\":[{\"colorbar\":{\"outlinewidth\":0,\"ticks\":\"\"},\"type\":\"choropleth\"}],\"contour\":[{\"colorbar\":{\"outlinewidth\":0,\"ticks\":\"\"},\"colorscale\":[[0.0,\"#0d0887\"],[0.1111111111111111,\"#46039f\"],[0.2222222222222222,\"#7201a8\"],[0.3333333333333333,\"#9c179e\"],[0.4444444444444444,\"#bd3786\"],[0.5555555555555556,\"#d8576b\"],[0.6666666666666666,\"#ed7953\"],[0.7777777777777778,\"#fb9f3a\"],[0.8888888888888888,\"#fdca26\"],[1.0,\"#f0f921\"]],\"type\":\"contour\"}],\"contourcarpet\":[{\"colorbar\":{\"outlinewidth\":0,\"ticks\":\"\"},\"type\":\"contourcarpet\"}],\"heatmap\":[{\"colorbar\":{\"outlinewidth\":0,\"ticks\":\"\"},\"colorscale\":[[0.0,\"#0d0887\"],[0.1111111111111111,\"#46039f\"],[0.2222222222222222,\"#7201a8\"],[0.3333333333333333,\"#9c179e\"],[0.4444444444444444,\"#bd3786\"],[0.5555555555555556,\"#d8576b\"],[0.6666666666666666,\"#ed7953\"],[0.7777777777777778,\"#fb9f3a\"],[0.8888888888888888,\"#fdca26\"],[1.0,\"#f0f921\"]],\"type\":\"heatmap\"}],\"heatmapgl\":[{\"colorbar\":{\"outlinewidth\":0,\"ticks\":\"\"},\"colorscale\":[[0.0,\"#0d0887\"],[0.1111111111111111,\"#46039f\"],[0.2222222222222222,\"#7201a8\"],[0.3333333333333333,\"#9c179e\"],[0.4444444444444444,\"#bd3786\"],[0.5555555555555556,\"#d8576b\"],[0.6666666666666666,\"#ed7953\"],[0.7777777777777778,\"#fb9f3a\"],[0.8888888888888888,\"#fdca26\"],[1.0,\"#f0f921\"]],\"type\":\"heatmapgl\"}],\"histogram\":[{\"marker\":{\"pattern\":{\"fillmode\":\"overlay\",\"size\":10,\"solidity\":0.2}},\"type\":\"histogram\"}],\"histogram2d\":[{\"colorbar\":{\"outlinewidth\":0,\"ticks\":\"\"},\"colorscale\":[[0.0,\"#0d0887\"],[0.1111111111111111,\"#46039f\"],[0.2222222222222222,\"#7201a8\"],[0.3333333333333333,\"#9c179e\"],[0.4444444444444444,\"#bd3786\"],[0.5555555555555556,\"#d8576b\"],[0.6666666666666666,\"#ed7953\"],[0.7777777777777778,\"#fb9f3a\"],[0.8888888888888888,\"#fdca26\"],[1.0,\"#f0f921\"]],\"type\":\"histogram2d\"}],\"histogram2dcontour\":[{\"colorbar\":{\"outlinewidth\":0,\"ticks\":\"\"},\"colorscale\":[[0.0,\"#0d0887\"],[0.1111111111111111,\"#46039f\"],[0.2222222222222222,\"#7201a8\"],[0.3333333333333333,\"#9c179e\"],[0.4444444444444444,\"#bd3786\"],[0.5555555555555556,\"#d8576b\"],[0.6666666666666666,\"#ed7953\"],[0.7777777777777778,\"#fb9f3a\"],[0.8888888888888888,\"#fdca26\"],[1.0,\"#f0f921\"]],\"type\":\"histogram2dcontour\"}],\"mesh3d\":[{\"colorbar\":{\"outlinewidth\":0,\"ticks\":\"\"},\"type\":\"mesh3d\"}],\"parcoords\":[{\"line\":{\"colorbar\":{\"outlinewidth\":0,\"ticks\":\"\"}},\"type\":\"parcoords\"}],\"pie\":[{\"automargin\":true,\"type\":\"pie\"}],\"scatter\":[{\"marker\":{\"colorbar\":{\"outlinewidth\":0,\"ticks\":\"\"}},\"type\":\"scatter\"}],\"scatter3d\":[{\"line\":{\"colorbar\":{\"outlinewidth\":0,\"ticks\":\"\"}},\"marker\":{\"colorbar\":{\"outlinewidth\":0,\"ticks\":\"\"}},\"type\":\"scatter3d\"}],\"scattercarpet\":[{\"marker\":{\"colorbar\":{\"outlinewidth\":0,\"ticks\":\"\"}},\"type\":\"scattercarpet\"}],\"scattergeo\":[{\"marker\":{\"colorbar\":{\"outlinewidth\":0,\"ticks\":\"\"}},\"type\":\"scattergeo\"}],\"scattergl\":[{\"marker\":{\"colorbar\":{\"outlinewidth\":0,\"ticks\":\"\"}},\"type\":\"scattergl\"}],\"scattermapbox\":[{\"marker\":{\"colorbar\":{\"outlinewidth\":0,\"ticks\":\"\"}},\"type\":\"scattermapbox\"}],\"scatterpolar\":[{\"marker\":{\"colorbar\":{\"outlinewidth\":0,\"ticks\":\"\"}},\"type\":\"scatterpolar\"}],\"scatterpolargl\":[{\"marker\":{\"colorbar\":{\"outlinewidth\":0,\"ticks\":\"\"}},\"type\":\"scatterpolargl\"}],\"scatterternary\":[{\"marker\":{\"colorbar\":{\"outlinewidth\":0,\"ticks\":\"\"}},\"type\":\"scatterternary\"}],\"surface\":[{\"colorbar\":{\"outlinewidth\":0,\"ticks\":\"\"},\"colorscale\":[[0.0,\"#0d0887\"],[0.1111111111111111,\"#46039f\"],[0.2222222222222222,\"#7201a8\"],[0.3333333333333333,\"#9c179e\"],[0.4444444444444444,\"#bd3786\"],[0.5555555555555556,\"#d8576b\"],[0.6666666666666666,\"#ed7953\"],[0.7777777777777778,\"#fb9f3a\"],[0.8888888888888888,\"#fdca26\"],[1.0,\"#f0f921\"]],\"type\":\"surface\"}],\"table\":[{\"cells\":{\"fill\":{\"color\":\"#EBF0F8\"},\"line\":{\"color\":\"white\"}},\"header\":{\"fill\":{\"color\":\"#C8D4E3\"},\"line\":{\"color\":\"white\"}},\"type\":\"table\"}]},\"layout\":{\"annotationdefaults\":{\"arrowcolor\":\"#2a3f5f\",\"arrowhead\":0,\"arrowwidth\":1},\"autotypenumbers\":\"strict\",\"coloraxis\":{\"colorbar\":{\"outlinewidth\":0,\"ticks\":\"\"}},\"colorscale\":{\"diverging\":[[0,\"#8e0152\"],[0.1,\"#c51b7d\"],[0.2,\"#de77ae\"],[0.3,\"#f1b6da\"],[0.4,\"#fde0ef\"],[0.5,\"#f7f7f7\"],[0.6,\"#e6f5d0\"],[0.7,\"#b8e186\"],[0.8,\"#7fbc41\"],[0.9,\"#4d9221\"],[1,\"#276419\"]],\"sequential\":[[0.0,\"#0d0887\"],[0.1111111111111111,\"#46039f\"],[0.2222222222222222,\"#7201a8\"],[0.3333333333333333,\"#9c179e\"],[0.4444444444444444,\"#bd3786\"],[0.5555555555555556,\"#d8576b\"],[0.6666666666666666,\"#ed7953\"],[0.7777777777777778,\"#fb9f3a\"],[0.8888888888888888,\"#fdca26\"],[1.0,\"#f0f921\"]],\"sequentialminus\":[[0.0,\"#0d0887\"],[0.1111111111111111,\"#46039f\"],[0.2222222222222222,\"#7201a8\"],[0.3333333333333333,\"#9c179e\"],[0.4444444444444444,\"#bd3786\"],[0.5555555555555556,\"#d8576b\"],[0.6666666666666666,\"#ed7953\"],[0.7777777777777778,\"#fb9f3a\"],[0.8888888888888888,\"#fdca26\"],[1.0,\"#f0f921\"]]},\"colorway\":[\"#636efa\",\"#EF553B\",\"#00cc96\",\"#ab63fa\",\"#FFA15A\",\"#19d3f3\",\"#FF6692\",\"#B6E880\",\"#FF97FF\",\"#FECB52\"],\"font\":{\"color\":\"#2a3f5f\"},\"geo\":{\"bgcolor\":\"white\",\"lakecolor\":\"white\",\"landcolor\":\"#E5ECF6\",\"showlakes\":true,\"showland\":true,\"subunitcolor\":\"white\"},\"hoverlabel\":{\"align\":\"left\"},\"hovermode\":\"closest\",\"mapbox\":{\"style\":\"light\"},\"paper_bgcolor\":\"white\",\"plot_bgcolor\":\"#E5ECF6\",\"polar\":{\"angularaxis\":{\"gridcolor\":\"white\",\"linecolor\":\"white\",\"ticks\":\"\"},\"bgcolor\":\"#E5ECF6\",\"radialaxis\":{\"gridcolor\":\"white\",\"linecolor\":\"white\",\"ticks\":\"\"}},\"scene\":{\"xaxis\":{\"backgroundcolor\":\"#E5ECF6\",\"gridcolor\":\"white\",\"gridwidth\":2,\"linecolor\":\"white\",\"showbackground\":true,\"ticks\":\"\",\"zerolinecolor\":\"white\"},\"yaxis\":{\"backgroundcolor\":\"#E5ECF6\",\"gridcolor\":\"white\",\"gridwidth\":2,\"linecolor\":\"white\",\"showbackground\":true,\"ticks\":\"\",\"zerolinecolor\":\"white\"},\"zaxis\":{\"backgroundcolor\":\"#E5ECF6\",\"gridcolor\":\"white\",\"gridwidth\":2,\"linecolor\":\"white\",\"showbackground\":true,\"ticks\":\"\",\"zerolinecolor\":\"white\"}},\"shapedefaults\":{\"line\":{\"color\":\"#2a3f5f\"}},\"ternary\":{\"aaxis\":{\"gridcolor\":\"white\",\"linecolor\":\"white\",\"ticks\":\"\"},\"baxis\":{\"gridcolor\":\"white\",\"linecolor\":\"white\",\"ticks\":\"\"},\"bgcolor\":\"#E5ECF6\",\"caxis\":{\"gridcolor\":\"white\",\"linecolor\":\"white\",\"ticks\":\"\"}},\"title\":{\"x\":0.05},\"xaxis\":{\"automargin\":true,\"gridcolor\":\"white\",\"linecolor\":\"white\",\"ticks\":\"\",\"title\":{\"standoff\":15},\"zerolinecolor\":\"white\",\"zerolinewidth\":2},\"yaxis\":{\"automargin\":true,\"gridcolor\":\"white\",\"linecolor\":\"white\",\"ticks\":\"\",\"title\":{\"standoff\":15},\"zerolinecolor\":\"white\",\"zerolinewidth\":2}}},\"scene\":{\"domain\":{\"x\":[0.0,1.0],\"y\":[0.0,1.0]},\"xaxis\":{\"title\":{\"text\":\"x\"}},\"yaxis\":{\"title\":{\"text\":\"y\"}},\"zaxis\":{\"title\":{\"text\":\"z\"}}},\"legend\":{\"title\":{\"text\":\"color\"},\"tracegroupgap\":0},\"margin\":{\"t\":60}},                        {\"responsive\": true}                    ).then(function(){\n",
              "                            \n",
              "var gd = document.getElementById('d5bf7db8-1064-411e-b012-e70157b1a8f2');\n",
              "var x = new MutationObserver(function (mutations, observer) {{\n",
              "        var display = window.getComputedStyle(gd).display;\n",
              "        if (!display || display === 'none') {{\n",
              "            console.log([gd, 'removed!']);\n",
              "            Plotly.purge(gd);\n",
              "            observer.disconnect();\n",
              "        }}\n",
              "}});\n",
              "\n",
              "// Listen for the removal of the full notebook cells\n",
              "var notebookContainer = gd.closest('#notebook-container');\n",
              "if (notebookContainer) {{\n",
              "    x.observe(notebookContainer, {childList: true});\n",
              "}}\n",
              "\n",
              "// Listen for the clearing of the current output cell\n",
              "var outputEl = gd.closest('.output');\n",
              "if (outputEl) {{\n",
              "    x.observe(outputEl, {childList: true});\n",
              "}}\n",
              "\n",
              "                        })                };                            </script>        </div>\n",
              "</body>\n",
              "</html>"
            ]
          },
          "metadata": {}
        }
      ]
    },
    {
      "cell_type": "code",
      "source": [
        ""
      ],
      "metadata": {
        "id": "qYA7et8zfG-g"
      },
      "execution_count": null,
      "outputs": []
    }
  ]
}
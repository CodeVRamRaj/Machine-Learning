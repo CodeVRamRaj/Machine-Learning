{
  "nbformat": 4,
  "nbformat_minor": 0,
  "metadata": {
    "colab": {
      "name": "KMeans_Implemetation.ipynb",
      "provenance": []
    },
    "kernelspec": {
      "name": "python3",
      "display_name": "Python 3"
    },
    "language_info": {
      "name": "python"
    }
  },
  "cells": [
    {
      "cell_type": "code",
      "source": [
        "from sklearn.datasets import make_blobs\n",
        "import matplotlib.pyplot as plt\n",
        "%matplotlib inline"
      ],
      "metadata": {
        "id": "NQOjGRwwFq1i"
      },
      "execution_count": null,
      "outputs": []
    },
    {
      "cell_type": "code",
      "source": [
        "centroids =[(-5,-5,-5),(5,5,5),(-2.5,2.5,-4),(1,2,3)]\n",
        "cluster_std = [1,1,1,1]\n",
        "X,y = make_blobs(n_samples=100, cluster_std=cluster_std, centers=centroids, n_features=3, random_state=42)\n",
        "X[0:5,:]"
      ],
      "metadata": {
        "id": "eGI5gWvqjfJf",
        "colab": {
          "base_uri": "https://localhost:8080/"
        },
        "outputId": "d159038e-277d-4843-e2c1-7dd38b7970ac"
      },
      "execution_count": null,
      "outputs": [
        {
          "output_type": "execute_result",
          "data": {
            "text/plain": [
              "array([[ 1.21645859,  2.04557184,  2.34839965],\n",
              "       [-1.84860875,  2.18473076, -3.24103078],\n",
              "       [ 1.1990597 ,  1.39978312,  3.06980208],\n",
              "       [ 1.01023306,  1.01849135,  3.46210347],\n",
              "       [-5.47917424, -5.18565898, -6.10633497]])"
            ]
          },
          "metadata": {},
          "execution_count": 45
        }
      ]
    },
    {
      "cell_type": "code",
      "source": [
        "plt.scatter(X[:,0],X[:,1])\n",
        "plt.show()"
      ],
      "metadata": {
        "colab": {
          "base_uri": "https://localhost:8080/",
          "height": 265
        },
        "id": "GjLt8Hhgj1n0",
        "outputId": "2676ddcd-b9c8-4d3a-9444-08d80d7a46a4"
      },
      "execution_count": null,
      "outputs": [
        {
          "output_type": "display_data",
          "data": {
            "text/plain": [
              "<Figure size 432x288 with 1 Axes>"
            ],
            "image/png": "[encoded data removed]"
          },
          "metadata": {
            "needs_background": "light"
          }
        }
      ]
    },
    {
      "cell_type": "code",
      "source": [
        "import random \n",
        "import numpy as np\n",
        "class KMeans:\n",
        "  def __init__(self,n_clusters=2, max_iter=100):\n",
        "    self.n_clusters = n_clusters\n",
        "    self.max_iter = max_iter\n",
        "    self.centroids = None\n",
        "  def fit_predict(self,X):\n",
        "    random_index= random.sample(range(0,X.shape[0]),self.n_clusters)\n",
        "    self.centroids = X[random_index]\n",
        "    for i in range(self.max_iter):\n",
        "      #assign clusters \n",
        "      cluster_group = self.assign_clusters(X)\n",
        "      old_centroids = self.centroids\n",
        "       # move centroids\n",
        "      self.centroids = self.move_centroids(X,cluster_group)\n",
        "       # check finish\n",
        "      if (old_centroids == self.centroids).all():\n",
        "        break\n",
        "    return cluster_group, self.centroids\n",
        "  def move_centroids(self,X,cluster_group):\n",
        "      new_centroids =[]\n",
        "      cluster_type = np.unique(cluster_group)\n",
        "      for type in cluster_type:\n",
        "        new_centroids.append(X[cluster_group==type].mean(axis=0))\n",
        "      return np.array(new_centroids)  \n",
        "  def assign_clusters(self,X):\n",
        "    cluster_group =[]\n",
        "    distances =[]\n",
        "    for row in X:\n",
        "      for centroid in self.centroids:\n",
        "        distances.append(np.sqrt(np.dot(row-centroid,row-centroid)))\n",
        "      min_distance = min(distances)\n",
        "      index_pos = distances.index(min_distance)\n",
        "      cluster_group.append(index_pos)\n",
        "      distances.clear()\n",
        "\n",
        "    return np.array(cluster_group)    "
      ],
      "metadata": {
        "id": "MyxeDgkIkUlP"
      },
      "execution_count": null,
      "outputs": []
    },
    {
      "cell_type": "code",
      "source": [
        "# km = KMeans(2,100)\n",
        "# y_means, centers = km.fit_predict(X)\n",
        "# print(y_means)\n",
        "ll=[]\n",
        "for j in range(1,10):\n",
        "  km = KMeans(j,100)\n",
        "  d=0\n",
        "  y_means, centers = km.fit_predict(X)\n",
        "  for i in range(len(X)):\n",
        "    d += np.sqrt(np.dot(centers[y_means[i]]-X[i],centers[y_means[i]]-X[i]))\n",
        "  ll.append(d)   \n",
        "\n",
        "# plt.scatter(X[y_means ==0,0], X[y_means ==0,1], color ='red')\n",
        "# plt.scatter(X[y_means ==1,0], X[y_means ==1,1], color = 'blue')\n",
        "# plt.show()\n",
        "\n",
        "c = range(1,10)\n",
        "plt.plot(c,ll)\n",
        "plt.show()"
      ],
      "metadata": {
        "colab": {
          "base_uri": "https://localhost:8080/",
          "height": 265
        },
        "id": "JgO0nWj8k9qH",
        "outputId": "5d778324-3682-4397-8f89-62da41bc3c91"
      },
      "execution_count": null,
      "outputs": [
        {
          "output_type": "display_data",
          "data": {
            "text/plain": [
              "<Figure size 432x288 with 1 Axes>"
            ],
            "image/png": "[encoded data removed]"
          },
          "metadata": {
            "needs_background": "light"
          }
        }
      ]
    },
    {
      "cell_type": "code",
      "source": [
        "from sklearn.cluster import KMeans"
      ],
      "metadata": {
        "id": "iN5COUcPOq8G"
      },
      "execution_count": null,
      "outputs": []
    },
    {
      "cell_type": "code",
      "source": [
        "wcss =[]\n",
        "for i in range(1,10):\n",
        "  km = KMeans(n_clusters=i)\n",
        "  km.fit_predict(X)\n",
        "  wcss.append(km.inertia_)"
      ],
      "metadata": {
        "id": "qHndKymw0YEx"
      },
      "execution_count": null,
      "outputs": []
    },
    {
      "cell_type": "code",
      "source": [
        "wcss"
      ],
      "metadata": {
        "colab": {
          "base_uri": "https://localhost:8080/"
        },
        "id": "jxlq5Fk10uyg",
        "outputId": "7a1aebe7-8792-4c2a-b758-f31392fd31d4"
      },
      "execution_count": null,
      "outputs": [
        {
          "output_type": "execute_result",
          "data": {
            "text/plain": [
              "[4933.166828360656,\n",
              " 1453.7590011744317,\n",
              " 630.8002196124155,\n",
              " 277.5025913413585,\n",
              " 249.35065395312182,\n",
              " 226.29893226329648,\n",
              " 201.25373623964038,\n",
              " 187.22172966788946,\n",
              " 166.68190086106102]"
            ]
          },
          "metadata": {},
          "execution_count": 51
        }
      ]
    },
    {
      "cell_type": "code",
      "source": [
        "plt.plot(range(1,10),wcss)"
      ],
      "metadata": {
        "colab": {
          "base_uri": "https://localhost:8080/",
          "height": 282
        },
        "id": "V1W_DVM60w9r",
        "outputId": "0dd7d5f5-8147-470a-b5fc-45577b580d8f"
      },
      "execution_count": null,
      "outputs": [
        {
          "output_type": "execute_result",
          "data": {
            "text/plain": [
              "[<matplotlib.lines.Line2D at 0x7f0e04585c90>]"
            ]
          },
          "metadata": {},
          "execution_count": 52
        },
        {
          "output_type": "display_data",
          "data": {
            "text/plain": [
              "<Figure size 432x288 with 1 Axes>"
            ],
            "image/png": "[encoded data removed]"
          },
          "metadata": {
            "needs_background": "light"
          }
        }
      ]
    },
    {
      "cell_type": "code",
      "source": [
        "km = KMeans(n_clusters=4)\n",
        "y_means =km.fit_predict(X)\n",
        "y_means"
      ],
      "metadata": {
        "colab": {
          "base_uri": "https://localhost:8080/"
        },
        "id": "fhI4Kec104iF",
        "outputId": "3483eb94-e868-4c93-bb8c-93954c1bc1b8"
      },
      "execution_count": null,
      "outputs": [
        {
          "output_type": "execute_result",
          "data": {
            "text/plain": [
              "array([3, 0, 3, 3, 2, 3, 0, 3, 1, 3, 1, 3, 2, 1, 2, 0, 1, 1, 1, 1, 2, 0,\n",
              "       2, 3, 0, 1, 1, 2, 2, 2, 1, 0, 2, 0, 0, 0, 2, 1, 0, 3, 2, 1, 3, 3,\n",
              "       0, 0, 1, 2, 2, 1, 1, 3, 1, 2, 1, 2, 3, 1, 0, 1, 1, 0, 0, 3, 0, 3,\n",
              "       2, 3, 0, 2, 0, 1, 0, 2, 3, 0, 3, 3, 2, 0, 3, 3, 2, 1, 3, 2, 0, 2,\n",
              "       1, 0, 2, 3, 3, 3, 1, 0, 2, 0, 2, 1], dtype=int32)"
            ]
          },
          "metadata": {},
          "execution_count": 53
        }
      ]
    },
    {
      "cell_type": "code",
      "source": [
        "X[y_means==0,1]"
      ],
      "metadata": {
        "colab": {
          "base_uri": "https://localhost:8080/"
        },
        "id": "D9QSQqef1MdB",
        "outputId": "6cf7d2cc-2550-41df-ad8f-fb0057c48c81"
      },
      "execution_count": null,
      "outputs": [
        {
          "output_type": "execute_result",
          "data": {
            "text/plain": [
              "array([2.18473076, 3.32206016, 2.42289829, 1.61614256, 1.3570297 ,\n",
              "       2.42717109, 0.88728413, 2.84644821, 1.52531833, 2.23534317,\n",
              "       4.81465857, 3.58305124, 1.25426122, 1.74626384, 3.01504769,\n",
              "       2.97383292, 1.56217496, 2.79307247, 3.63556564, 1.64284244,\n",
              "       3.32718325, 1.67931768, 2.27653721, 2.05348505, 2.26318139])"
            ]
          },
          "metadata": {},
          "execution_count": 54
        }
      ]
    },
    {
      "cell_type": "code",
      "source": [
        "plt.scatter(X[y_means==0,0],X[y_means==0,1],color = 'blue')\n",
        "plt.scatter(X[y_means==1,0],X[y_means==1,1],color = 'red')\n",
        "plt.scatter(X[y_means==2,0],X[y_means==2,1],color = 'yellow')\n",
        "plt.scatter(X[y_means==3,0],X[y_means==3,1],color = 'green')"
      ],
      "metadata": {
        "colab": {
          "base_uri": "https://localhost:8080/",
          "height": 282
        },
        "id": "rhy2fgs71Vn_",
        "outputId": "1b6ef977-dae0-4e4d-a50f-f4a6d6a03868"
      },
      "execution_count": null,
      "outputs": [
        {
          "output_type": "execute_result",
          "data": {
            "text/plain": [
              "<matplotlib.collections.PathCollection at 0x7f0e04506c50>"
            ]
          },
          "metadata": {},
          "execution_count": 55
        },
        {
          "output_type": "display_data",
          "data": {
            "text/plain": [
              "<Figure size 432x288 with 1 Axes>"
            ],
            "image/png": "[encoded data removed]"
          },
          "metadata": {
            "needs_background": "light"
          }
        }
      ]
    },
    {
      "cell_type": "code",
      "source": [
        "import plotly.express as px\n",
        "# fig = px.scatter_3d(x=X[:,0],y=X[:,1],z =X[:,2])\n",
        "fig = px.scatter_3d(X, x=0, y= 1, z =2)\n",
        "fig.show()"
      ],
      "metadata": {
        "colab": {
          "base_uri": "https://localhost:8080/",
          "height": 542
        },
        "id": "OVvt0FzC2Xb8",
        "outputId": "c9939c70-be51-4f33-d608-8bad3c800a99"
      },
      "execution_count": null,
      "outputs": [
        {
          "output_type": "display_data",
          "data": {
            "text/html": [
              "<html>\n",
              "<head><meta charset=\"utf-8\" /></head>\n",
              "<body>\n",
              "    <div>            <script src=\"https://cdnjs.cloudflare.com/ajax/libs/mathjax/2.7.5/MathJax.js?config=TeX-AMS-MML_SVG\"></script><script type=\"text/javascript\">if (window.MathJax) {MathJax.Hub.Config({SVG: {font: \"STIX-Web\"}});}</script>                <script type=\"text/javascript\">window.PlotlyConfig = {MathJaxConfig: 'local'};</script>\n",
              "        <script src=\"https://cdn.plot.ly/plotly-2.8.3.min.js\"></script>                <div id=\"358925fb-08c9-4337-8308-4a45d8ecd1a8\" class=\"plotly-graph-div\" style=\"height:525px; width:100%;\"></div>            <script type=\"text/javascript\">                                    window.PLOTLYENV=window.PLOTLYENV || {};                                    if (document.getElementById(\"358925fb-08c9-4337-8308-4a45d8ecd1a8\")) {                    Plotly.newPlot(                        \"358925fb-08c9-4337-8308-4a45d8ecd1a8\",                        [{\"hovertemplate\":\"0=%{x}<br>1=%{y}<br>2=%{z}<extra></extra>\",\"legendgroup\":\"\",\"marker\":{\"color\":\"#636efa\",\"symbol\":\"circle\"},\"mode\":\"markers\",\"name\":\"\",\"scene\":\"scene\",\"showlegend\":false,\"x\":[1.2164585895819748,-1.848608748694202,1.19905969557347,1.010233061019587,-5.47917423784529,1.4049817109609555,-2.0872190730635016,0.6146864031382397,5.296120277064576,1.1864543147694278,4.672337853402232,0.7474318486068396,-5.11564828238824,6.307142754282428,-3.4207871844926085,-3.3158102849654383,4.496524345883801,5.821902504375224,6.54993440501754,4.765412866624853,-5.562287529240972,-2.114682620271163,-4.457439956414035,1.4438194281462284,-2.441791281554,5.791031947043047,3.6795433869157237,-5.309212375851215,-6.196206624080671,-4.503285846988767,3.8313219623804677,-2.026762375426455,-5.225776300486536,-1.8137398096254866,-2.2495071496541232,-1.8434463913661703,-3.4769701435919744,5.091760776535502,-1.0464659228426831,0.20747926156729934,-5.908024075521211,4.973486124550783,0.5250546888390438,1.3570154859650474,-2.4181258606136775,-1.9392154736317657,5.81351721736967,-5.3850822804163165,-5.601706612229397,4.009463674869312,4.191506397106813,-0.9520877995225019,4.65728548347323,-4.758037728433965,5.0970775493480405,-4.8031387641308765,2.088950596967366,3.598148937207719,-2.2859062558697962,3.937696286273895,4.807639035218878,-2.7453881160028706,-1.986214049087791,3.1221561970126332,-0.6342254888552434,0.5069990653411671,-5.035826039109952,0.2846962907400318,-3.877669367957091,-5.719844208394709,-2.2677463028389964,5.357112571511746,-1.929109489306833,-5.544382724525183,3.1439440893253257,-1.874332652234994,0.9404746439381999,2.586016816145352,-3.969000477504049,-2.223309200669981,0.5157659271337487,-0.4301413779606327,-4.656381710431539,5.3287511096596845,2.4412732890661157,-4.791136404995244,-1.341404420992596,-6.057710928955901,5.2575503907227645,-2.017527584756815,-5.072010121580334,1.2809918677350327,1.8657551941701214,1.3072995208766094,5.259882794248424,-4.014847224685864,-5.645119754605124,-3.272825214537572,-4.6243019816543285,5.404050856814538],\"y\":[2.045571839903814,2.1847307553596544,1.3997831228412054,1.018491348952049,-5.1856589766638175,0.7391160456649548,3.32206015999449,2.113517345251248,5.261055272179889,1.338213535231612,4.607891846867842,0.7522168180351505,-5.301103695589289,3.3925167654387725,-4.2325652708470916,2.422898290585896,3.4493365689338673,5.087047068238171,4.216746707663763,3.5846292579495858,-6.012831120334424,1.6161425637988671,-5.463417692812462,2.7746340534293368,1.357029702169377,4.090612545205261,5.521941565616897,-4.668736568596436,-4.187474177605802,-5.138264301171184,6.1428228145150205,2.4271710873431274,-4.932471795312076,0.8872841288103483,2.846448209496976,1.5253183297726784,-5.234153374723336,3.012431085399107,2.235343166762044,1.885263558533101,-6.412303701335292,5.060230209941026,1.346670767426288,1.3070904047393457,4.814658566673509,3.583051243175277,3.769135683566045,-5.676922000305959,-3.147721815491062,4.433702270397228,4.498242956415464,1.8482149049644168,4.197722730778381,-6.913280244657798,5.968644990532889,-4.261533420004589,2.0642800190954627,5.58685709380027,1.254261221288012,5.473592430635182,5.301547342333612,1.7462638356425104,3.015047686306048,3.032465260551147,2.9738329209117875,1.4106352430557885,-3.435356344185994,2.679597748934676,1.562174960084877,-5.460638770959788,2.793072473298681,6.477894044741516,3.635565640180599,-4.889077410290134,2.633919022318011,1.6428424435837174,-1.2412673400690726,0.762184501173151,-4.068719880883801,3.3271832490360236,3.2669111491866225,1.5599555133030163,-6.763040155362734,4.470239796232962,0.5641378488205606,-6.959670123879776,1.6793176816482895,-4.177455087896811,4.925554084233832,2.276537214674149,-3.996467102107976,1.3773004801794062,0.7997035929442238,2.81286211883896,5.78182287177731,2.0534850479329787,-4.638604394491586,2.263181393259991,-5.600638689918805,6.88618590121053],\"z\":[2.348399652394183,-3.2410307795067324,3.0698020849900187,3.462103474263271,-6.106334974006028,3.917861947054776,-2.103207017346053,3.6621306745210465,5.005113456642461,3.852433334796224,3.5364850518678814,4.632411303931635,-6.478521990367428,5.184633858532305,-5.469474385934952,-3.658848025183356,5.068562974806027,4.7009926495341325,4.677938483794325,4.579354677234641,-4.685752667404726,-3.846274894054472,-5.4657297535702565,2.073069528421917,-3.6422126396517167,6.402794310936099,5.296984673233186,-4.024454872877641,-3.6437599714291773,-4.3523114618993075,5.751933032686774,-4.846793718068405,-6.424748186213456,-4.471931865789434,-4.680024721578491,-3.212915396257548,-5.234136956949181,4.780328112162488,-1.2798308334103812,3.5049872789804573,-3.534351231078446,7.463242112485286,4.765454240281096,3.8995998754332506,-5.8672651925917485,-2.9461979479650973,5.22745993460413,-4.388323711159132,-5.013497224737934,5.099651365087642,5.915402117702074,3.5883172064845765,4.838714288333991,-6.724917832513032,4.297946906122648,-4.82863171881003,1.9222552220706939,7.190455625809978,-3.826819074148818,4.080575765766197,4.965288230294757,-4.889514429625523,-0.1472685093452788,1.4806300340459866,-5.191303497202648,3.8496020970210245,-7.619745104089745,2.2696333682828636,-3.4849647327913402,-3.9428777737810843,-4.714351418026368,4.481729781726353,-3.0459982365067977,-6.150993577422303,0.9748574133423928,-5.070892498061112,1.9756123586657102,5.133033374656266,-5.839217523222638,-3.986998108122093,2.292330534381219,3.1307405772860912,-4.6759160306052046,5.513267433113356,4.16316375215496,-6.328186048898431,-3.0366238707556783,-6.220843649971022,3.0812287847009587,-3.285999505907908,-4.638363974952366,2.7918777496427247,2.6654987641590515,3.629628841923612,3.763049289121918,-3.1436012056765277,-3.461963433534031,-4.485363547829103,-5.291693749793277,5.174577812831839],\"type\":\"scatter3d\"}],                        {\"template\":{\"data\":{\"bar\":[{\"error_x\":{\"color\":\"#2a3f5f\"},\"error_y\":{\"color\":\"#2a3f5f\"},\"marker\":{\"line\":{\"color\":\"#E5ECF6\",\"width\":0.5},\"pattern\":{\"fillmode\":\"overlay\",\"size\":10,\"solidity\":0.2}},\"type\":\"bar\"}],\"barpolar\":[{\"marker\":{\"line\":{\"color\":\"#E5ECF6\",\"width\":0.5},\"pattern\":{\"fillmode\":\"overlay\",\"size\":10,\"solidity\":0.2}},\"type\":\"barpolar\"}],\"carpet\":[{\"aaxis\":{\"endlinecolor\":\"#2a3f5f\",\"gridcolor\":\"white\",\"linecolor\":\"white\",\"minorgridcolor\":\"white\",\"startlinecolor\":\"#2a3f5f\"},\"baxis\":{\"endlinecolor\":\"#2a3f5f\",\"gridcolor\":\"white\",\"linecolor\":\"white\",\"minorgridcolor\":\"white\",\"startlinecolor\":\"#2a3f5f\"},\"type\":\"carpet\"}],\"choropleth\":[{\"colorbar\":{\"outlinewidth\":0,\"ticks\":\"\"},\"type\":\"choropleth\"}],\"contour\":[{\"colorbar\":{\"outlinewidth\":0,\"ticks\":\"\"},\"colorscale\":[[0.0,\"#0d0887\"],[0.1111111111111111,\"#46039f\"],[0.2222222222222222,\"#7201a8\"],[0.3333333333333333,\"#9c179e\"],[0.4444444444444444,\"#bd3786\"],[0.5555555555555556,\"#d8576b\"],[0.6666666666666666,\"#ed7953\"],[0.7777777777777778,\"#fb9f3a\"],[0.8888888888888888,\"#fdca26\"],[1.0,\"#f0f921\"]],\"type\":\"contour\"}],\"contourcarpet\":[{\"colorbar\":{\"outlinewidth\":0,\"ticks\":\"\"},\"type\":\"contourcarpet\"}],\"heatmap\":[{\"colorbar\":{\"outlinewidth\":0,\"ticks\":\"\"},\"colorscale\":[[0.0,\"#0d0887\"],[0.1111111111111111,\"#46039f\"],[0.2222222222222222,\"#7201a8\"],[0.3333333333333333,\"#9c179e\"],[0.4444444444444444,\"#bd3786\"],[0.5555555555555556,\"#d8576b\"],[0.6666666666666666,\"#ed7953\"],[0.7777777777777778,\"#fb9f3a\"],[0.8888888888888888,\"#fdca26\"],[1.0,\"#f0f921\"]],\"type\":\"heatmap\"}],\"heatmapgl\":[{\"colorbar\":{\"outlinewidth\":0,\"ticks\":\"\"},\"colorscale\":[[0.0,\"#0d0887\"],[0.1111111111111111,\"#46039f\"],[0.2222222222222222,\"#7201a8\"],[0.3333333333333333,\"#9c179e\"],[0.4444444444444444,\"#bd3786\"],[0.5555555555555556,\"#d8576b\"],[0.6666666666666666,\"#ed7953\"],[0.7777777777777778,\"#fb9f3a\"],[0.8888888888888888,\"#fdca26\"],[1.0,\"#f0f921\"]],\"type\":\"heatmapgl\"}],\"histogram\":[{\"marker\":{\"pattern\":{\"fillmode\":\"overlay\",\"size\":10,\"solidity\":0.2}},\"type\":\"histogram\"}],\"histogram2d\":[{\"colorbar\":{\"outlinewidth\":0,\"ticks\":\"\"},\"colorscale\":[[0.0,\"#0d0887\"],[0.1111111111111111,\"#46039f\"],[0.2222222222222222,\"#7201a8\"],[0.3333333333333333,\"#9c179e\"],[0.4444444444444444,\"#bd3786\"],[0.5555555555555556,\"#d8576b\"],[0.6666666666666666,\"#ed7953\"],[0.7777777777777778,\"#fb9f3a\"],[0.8888888888888888,\"#fdca26\"],[1.0,\"#f0f921\"]],\"type\":\"histogram2d\"}],\"histogram2dcontour\":[{\"colorbar\":{\"outlinewidth\":0,\"ticks\":\"\"},\"colorscale\":[[0.0,\"#0d0887\"],[0.1111111111111111,\"#46039f\"],[0.2222222222222222,\"#7201a8\"],[0.3333333333333333,\"#9c179e\"],[0.4444444444444444,\"#bd3786\"],[0.5555555555555556,\"#d8576b\"],[0.6666666666666666,\"#ed7953\"],[0.7777777777777778,\"#fb9f3a\"],[0.8888888888888888,\"#fdca26\"],[1.0,\"#f0f921\"]],\"type\":\"histogram2dcontour\"}],\"mesh3d\":[{\"colorbar\":{\"outlinewidth\":0,\"ticks\":\"\"},\"type\":\"mesh3d\"}],\"parcoords\":[{\"line\":{\"colorbar\":{\"outlinewidth\":0,\"ticks\":\"\"}},\"type\":\"parcoords\"}],\"pie\":[{\"automargin\":true,\"type\":\"pie\"}],\"scatter\":[{\"marker\":{\"colorbar\":{\"outlinewidth\":0,\"ticks\":\"\"}},\"type\":\"scatter\"}],\"scatter3d\":[{\"line\":{\"colorbar\":{\"outlinewidth\":0,\"ticks\":\"\"}},\"marker\":{\"colorbar\":{\"outlinewidth\":0,\"ticks\":\"\"}},\"type\":\"scatter3d\"}],\"scattercarpet\":[{\"marker\":{\"colorbar\":{\"outlinewidth\":0,\"ticks\":\"\"}},\"type\":\"scattercarpet\"}],\"scattergeo\":[{\"marker\":{\"colorbar\":{\"outlinewidth\":0,\"ticks\":\"\"}},\"type\":\"scattergeo\"}],\"scattergl\":[{\"marker\":{\"colorbar\":{\"outlinewidth\":0,\"ticks\":\"\"}},\"type\":\"scattergl\"}],\"scattermapbox\":[{\"marker\":{\"colorbar\":{\"outlinewidth\":0,\"ticks\":\"\"}},\"type\":\"scattermapbox\"}],\"scatterpolar\":[{\"marker\":{\"colorbar\":{\"outlinewidth\":0,\"ticks\":\"\"}},\"type\":\"scatterpolar\"}],\"scatterpolargl\":[{\"marker\":{\"colorbar\":{\"outlinewidth\":0,\"ticks\":\"\"}},\"type\":\"scatterpolargl\"}],\"scatterternary\":[{\"marker\":{\"colorbar\":{\"outlinewidth\":0,\"ticks\":\"\"}},\"type\":\"scatterternary\"}],\"surface\":[{\"colorbar\":{\"outlinewidth\":0,\"ticks\":\"\"},\"colorscale\":[[0.0,\"#0d0887\"],[0.1111111111111111,\"#46039f\"],[0.2222222222222222,\"#7201a8\"],[0.3333333333333333,\"#9c179e\"],[0.4444444444444444,\"#bd3786\"],[0.5555555555555556,\"#d8576b\"],[0.6666666666666666,\"#ed7953\"],[0.7777777777777778,\"#fb9f3a\"],[0.8888888888888888,\"#fdca26\"],[1.0,\"#f0f921\"]],\"type\":\"surface\"}],\"table\":[{\"cells\":{\"fill\":{\"color\":\"#EBF0F8\"},\"line\":{\"color\":\"white\"}},\"header\":{\"fill\":{\"color\":\"#C8D4E3\"},\"line\":{\"color\":\"white\"}},\"type\":\"table\"}]},\"layout\":{\"annotationdefaults\":{\"arrowcolor\":\"#2a3f5f\",\"arrowhead\":0,\"arrowwidth\":1},\"autotypenumbers\":\"strict\",\"coloraxis\":{\"colorbar\":{\"outlinewidth\":0,\"ticks\":\"\"}},\"colorscale\":{\"diverging\":[[0,\"#8e0152\"],[0.1,\"#c51b7d\"],[0.2,\"#de77ae\"],[0.3,\"#f1b6da\"],[0.4,\"#fde0ef\"],[0.5,\"#f7f7f7\"],[0.6,\"#e6f5d0\"],[0.7,\"#b8e186\"],[0.8,\"#7fbc41\"],[0.9,\"#4d9221\"],[1,\"#276419\"]],\"sequential\":[[0.0,\"#0d0887\"],[0.1111111111111111,\"#46039f\"],[0.2222222222222222,\"#7201a8\"],[0.3333333333333333,\"#9c179e\"],[0.4444444444444444,\"#bd3786\"],[0.5555555555555556,\"#d8576b\"],[0.6666666666666666,\"#ed7953\"],[0.7777777777777778,\"#fb9f3a\"],[0.8888888888888888,\"#fdca26\"],[1.0,\"#f0f921\"]],\"sequentialminus\":[[0.0,\"#0d0887\"],[0.1111111111111111,\"#46039f\"],[0.2222222222222222,\"#7201a8\"],[0.3333333333333333,\"#9c179e\"],[0.4444444444444444,\"#bd3786\"],[0.5555555555555556,\"#d8576b\"],[0.6666666666666666,\"#ed7953\"],[0.7777777777777778,\"#fb9f3a\"],[0.8888888888888888,\"#fdca26\"],[1.0,\"#f0f921\"]]},\"colorway\":[\"#636efa\",\"#EF553B\",\"#00cc96\",\"#ab63fa\",\"#FFA15A\",\"#19d3f3\",\"#FF6692\",\"#B6E880\",\"#FF97FF\",\"#FECB52\"],\"font\":{\"color\":\"#2a3f5f\"},\"geo\":{\"bgcolor\":\"white\",\"lakecolor\":\"white\",\"landcolor\":\"#E5ECF6\",\"showlakes\":true,\"showland\":true,\"subunitcolor\":\"white\"},\"hoverlabel\":{\"align\":\"left\"},\"hovermode\":\"closest\",\"mapbox\":{\"style\":\"light\"},\"paper_bgcolor\":\"white\",\"plot_bgcolor\":\"#E5ECF6\",\"polar\":{\"angularaxis\":{\"gridcolor\":\"white\",\"linecolor\":\"white\",\"ticks\":\"\"},\"bgcolor\":\"#E5ECF6\",\"radialaxis\":{\"gridcolor\":\"white\",\"linecolor\":\"white\",\"ticks\":\"\"}},\"scene\":{\"xaxis\":{\"backgroundcolor\":\"#E5ECF6\",\"gridcolor\":\"white\",\"gridwidth\":2,\"linecolor\":\"white\",\"showbackground\":true,\"ticks\":\"\",\"zerolinecolor\":\"white\"},\"yaxis\":{\"backgroundcolor\":\"#E5ECF6\",\"gridcolor\":\"white\",\"gridwidth\":2,\"linecolor\":\"white\",\"showbackground\":true,\"ticks\":\"\",\"zerolinecolor\":\"white\"},\"zaxis\":{\"backgroundcolor\":\"#E5ECF6\",\"gridcolor\":\"white\",\"gridwidth\":2,\"linecolor\":\"white\",\"showbackground\":true,\"ticks\":\"\",\"zerolinecolor\":\"white\"}},\"shapedefaults\":{\"line\":{\"color\":\"#2a3f5f\"}},\"ternary\":{\"aaxis\":{\"gridcolor\":\"white\",\"linecolor\":\"white\",\"ticks\":\"\"},\"baxis\":{\"gridcolor\":\"white\",\"linecolor\":\"white\",\"ticks\":\"\"},\"bgcolor\":\"#E5ECF6\",\"caxis\":{\"gridcolor\":\"white\",\"linecolor\":\"white\",\"ticks\":\"\"}},\"title\":{\"x\":0.05},\"xaxis\":{\"automargin\":true,\"gridcolor\":\"white\",\"linecolor\":\"white\",\"ticks\":\"\",\"title\":{\"standoff\":15},\"zerolinecolor\":\"white\",\"zerolinewidth\":2},\"yaxis\":{\"automargin\":true,\"gridcolor\":\"white\",\"linecolor\":\"white\",\"ticks\":\"\",\"title\":{\"standoff\":15},\"zerolinecolor\":\"white\",\"zerolinewidth\":2}}},\"scene\":{\"domain\":{\"x\":[0.0,1.0],\"y\":[0.0,1.0]},\"xaxis\":{\"title\":{\"text\":\"0\"}},\"yaxis\":{\"title\":{\"text\":\"1\"}},\"zaxis\":{\"title\":{\"text\":\"2\"}}},\"legend\":{\"tracegroupgap\":0},\"margin\":{\"t\":60}},                        {\"responsive\": true}                    ).then(function(){\n",
              "                            \n",
              "var gd = document.getElementById('358925fb-08c9-4337-8308-4a45d8ecd1a8');\n",
              "var x = new MutationObserver(function (mutations, observer) {{\n",
              "        var display = window.getComputedStyle(gd).display;\n",
              "        if (!display || display === 'none') {{\n",
              "            console.log([gd, 'removed!']);\n",
              "            Plotly.purge(gd);\n",
              "            observer.disconnect();\n",
              "        }}\n",
              "}});\n",
              "\n",
              "// Listen for the removal of the full notebook cells\n",
              "var notebookContainer = gd.closest('#notebook-container');\n",
              "if (notebookContainer) {{\n",
              "    x.observe(notebookContainer, {childList: true});\n",
              "}}\n",
              "\n",
              "// Listen for the clearing of the current output cell\n",
              "var outputEl = gd.closest('.output');\n",
              "if (outputEl) {{\n",
              "    x.observe(outputEl, {childList: true});\n",
              "}}\n",
              "\n",
              "                        })                };                            </script>        </div>\n",
              "</body>\n",
              "</html>"
            ]
          },
          "metadata": {}
        }
      ]
    },
    {
      "cell_type": "code",
      "source": [
        ""
      ],
      "metadata": {
        "id": "ePsdrkdi4xnk"
      },
      "execution_count": null,
      "outputs": []
    }
  ]
}